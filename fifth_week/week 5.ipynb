{
 "cells": [
  {
   "cell_type": "markdown",
   "metadata": {},
   "source": [
    "# Week 5\n",
    "## Ungraded Exercise TA Solution\n",
    "### TA: Abhisek Sarkar\n",
    "### as20ms091@iiserkol.ac.in"
   ]
  },
  {
   "cell_type": "markdown",
   "metadata": {},
   "source": [
    "1. Create a 1-D NumPy array containing 9 elements, taken as inputs from the user. Now, use a single statement and negative slicing to print the array elements in reverse order.\n"
   ]
  },
  {
   "cell_type": "code",
   "execution_count": 1,
   "metadata": {},
   "outputs": [
    {
     "name": "stdout",
     "output_type": "stream",
     "text": [
      "[9 8 7 6 5 4 3 2 1]\n"
     ]
    }
   ],
   "source": [
    "import numpy as np\n",
    "\n",
    "arr = np.array([int(input(f\"Enter element {i+1}: \")) for i in range(9)])\n",
    "print(arr[::-1])"
   ]
  },
  {
   "cell_type": "markdown",
   "metadata": {},
   "source": [
    "2. Create a 1-D NumPy array containing 9 elements, taken as inputs from the user. Now, use array slicing to accomplish the following: <br>\n",
    "a. Print the last 3 elements from the array <br>\n",
    "b. Print the first 3 elements from the array <br>\n",
    "c. Print the middle 3 elements from the array <br>\n",
    "d. Print the 5th-last element to 2nd-last element (included) using negative slicing <br>\n",
    "e. Replace every second element starting from index 1 of the array with 0, and print the updated array <br>\n",
    "E.g. If the array is [1 2 3 4 5 6 7 8 9], the desired outcomes are as follows:\n",
    "\n",
    "```\n",
    "Last 3 elements from the array [7 8 9]\n",
    "First 3 elements from the array [1 2 3]\n",
    "Middle 3 elements from the array [4 5 6]\n",
    "5th-last element to 2nd-last element (included): [5 6 7 8]\n",
    "Updated array: [1 0 3 0 5 0 7 0 9]\n",
    "```\n"
   ]
  },
  {
   "cell_type": "code",
   "execution_count": 2,
   "metadata": {},
   "outputs": [
    {
     "name": "stdout",
     "output_type": "stream",
     "text": [
      "Last 3 elements from the array [7 8 9]\n",
      "First 3 elements from the array [1 2 3]\n",
      "Middle 3 elements from the array [4 5 6]\n",
      "5th-last element to 2nd-last element (included): [5 6 7 8]\n",
      "Updated array: [1 0 3 0 5 0 7 0 9]\n"
     ]
    }
   ],
   "source": [
    "import numpy as np\n",
    "\n",
    "arr = np.array([int(input(f\"Enter element {i+1}: \")) for i in range(9)])\n",
    "\n",
    "print(\"Last 3 elements from the array\", arr[-3:])\n",
    "print(\"First 3 elements from the array\", arr[:3])\n",
    "print(\"Middle 3 elements from the array\", arr[3:6])\n",
    "print(\"5th-last element to 2nd-last element (included):\", arr[-5:-1])\n",
    "\n",
    "arr[1::2] = 0\n",
    "print(\"Updated array:\", arr)"
   ]
  },
  {
   "cell_type": "markdown",
   "metadata": {},
   "source": [
    "3. Create a 2-D NumPy array or matrix of dimension . Now, use array slicing to accomplish the following: <br>\n",
    "a. Print the last 2 columns of the matrix <br>\n",
    "b. Print the first 2 rows of the matrix <br>\n",
    "c. Replace its elements in the central  matrix by the maximum value present there, and print the updated matrix. [Note that the maximum element value in an NumPy array can be determined by using numpy.max() method] <br>\n",
    "E.g. If the matrix is , \n",
    "\\begin{bmatrix}\n",
    "1 & 2 & 3 & 4 \\\\\n",
    "5 & 6 & 7 & 8 \\\\\n",
    "9 & 10 & 11 & 12 \\\\\n",
    "13 & 14 & 15 & 16\n",
    "\\end{bmatrix}\n",
    "\n",
    "the desired outcomes are as follows: <br>\n",
    "Last 2 columns of the matrix:\n",
    "```\n",
    "[[3  4]\n",
    " [7  8]\n",
    " [11 12]\n",
    " [15 16]]\n",
    "```\n",
    "\n",
    "First 2 rows of the matrix:\n",
    "```\n",
    "[[1 2 3 4]\n",
    " [5 6 7 8]]\n",
    "```\n",
    "\n",
    "Updated matrix:\n",
    "```\n",
    "[[1  2  3  4]\n",
    " [5 11 11  8]\n",
    " [9 11 11 12]\n",
    " [13 14 15 16]]\n",
    "```"
   ]
  },
  {
   "cell_type": "code",
   "execution_count": 3,
   "metadata": {},
   "outputs": [
    {
     "name": "stdout",
     "output_type": "stream",
     "text": [
      "Last 2 columns of the matrix:\n",
      " [[ 3  4]\n",
      " [ 7  8]\n",
      " [11 12]\n",
      " [15 16]]\n",
      "First 2 rows of the matrix:\n",
      " [[1 2 3 4]\n",
      " [5 6 7 8]]\n",
      "Updated matrix:\n",
      " [[ 1  2  3  4]\n",
      " [ 5 11 11  8]\n",
      " [ 9 11 11 12]\n",
      " [13 14 15 16]]\n"
     ]
    }
   ],
   "source": [
    "import numpy as np\n",
    "\n",
    "matrix = np.array([[int(input(f\"Enter element ({i+1},{j+1}): \")) for j in range(4)] for i in range(4)])\n",
    "\n",
    "print(\"Last 2 columns of the matrix:\\n\", matrix[:, -2:])\n",
    "print(\"First 2 rows of the matrix:\\n\", matrix[:2, :])\n",
    "\n",
    "central_max = np.max(matrix[1:3, 1:3])\n",
    "matrix[1:3, 1:3] = central_max\n",
    "\n",
    "print(\"Updated matrix:\\n\", matrix)"
   ]
  },
  {
   "cell_type": "markdown",
   "metadata": {},
   "source": [
    "4. Create two 2-D NumPy arrays or matrices, namely A and B, of dimension  each. Use array slicing to replace every second element starting from index 0 along the rows and the columns of matrix A with the corresponding element in matrix B. Now, print the updated matrix A.\n",
    " \n",
    "E.g. If the matrix A is\n",
    "\\begin{bmatrix}\n",
    "1 & 2 & 3 & 4 \\\\\n",
    "5 & 6 & 7 & 8 \\\\\n",
    "9 & 10 & 11 & 12 \\\\\n",
    "13 & 14 & 15 & 16\n",
    "\\end{bmatrix}\n",
    "and the matrix B is\n",
    "\\begin{bmatrix}\n",
    "-1 & -2 & -3 & -4 \\\\\n",
    "-5 & -6 & -7 & -8 \\\\\n",
    "-9 & -10 & -11 & -12 \\\\\n",
    "-13 & -14 & -15 & -16\n",
    "\\end{bmatrix}, \n",
    "the desired outcome would be as follows:\n",
    "Updated matrix A:\n",
    "```\n",
    "[[-1  2  -3  4]\n",
    " [ 5  6   7  8]\n",
    " [-9 10 -11 12]\n",
    " [13 14  15 16]]\n",
    "```"
   ]
  },
  {
   "cell_type": "code",
   "execution_count": 4,
   "metadata": {},
   "outputs": [
    {
     "name": "stdout",
     "output_type": "stream",
     "text": [
      "Updated matrix A:\n",
      " [[ -1   2  -3   4]\n",
      " [  5   6   7   8]\n",
      " [ -9  10 -11  12]\n",
      " [ 13  14  15  16]]\n"
     ]
    }
   ],
   "source": [
    "import numpy as np\n",
    "\n",
    "A = np.array([[int(input(f\"Enter element A({i+1},{j+1}): \")) for j in range(4)] for i in range(4)])\n",
    "B = np.array([[int(input(f\"Enter element B({i+1},{j+1}): \")) for j in range(4)] for i in range(4)])\n",
    "\n",
    "A[::2, ::2] = B[::2, ::2]\n",
    "\n",
    "print(\"Updated matrix A:\\n\", A)"
   ]
  },
  {
   "cell_type": "markdown",
   "metadata": {},
   "source": [
    "5. Given any 2-D NumPy array of dimension 4 x 4, create a 3-D array B of dimension 4 x 2 x 2, composed of the 2 x 2 matrix components taken from the top-left, top-right, bottom-left and bottom-right corners of A. Use the concept of array slicing in order to achieve this.\n",
    "E.g. If the matrix A is,\n",
    "\\begin{bmatrix}\n",
    "1 & 2 & 3 & 4 \\\\\n",
    "5 & 6 & 7 & 8 \\\\\n",
    "9 & 10 & 11 & 12 \\\\\n",
    "13 & 14 & 15 & 16\n",
    "\\end{bmatrix}\n",
    "the desired outcome would be as follows:\n",
    "```\n",
    "Array B:\n",
    "[[[1 2]\n",
    "  [5 6]]]\n",
    "\n",
    "[[[3 4]\n",
    "  [7 8]]]\n",
    "\n",
    "[[[9 10]\n",
    "  [13 14]]]\n",
    "\n",
    "[[[11 12]\n",
    "  [15 16]]]]\n",
    "```\n",
    "\n"
   ]
  },
  {
   "cell_type": "code",
   "execution_count": 5,
   "metadata": {},
   "outputs": [
    {
     "name": "stdout",
     "output_type": "stream",
     "text": [
      "Array B:\n",
      "[[1 2]\n",
      " [5 6]] \n",
      "\n",
      "[[3 4]\n",
      " [7 8]] \n",
      "\n",
      "[[ 9 10]\n",
      " [13 14]] \n",
      "\n",
      "[[11 12]\n",
      " [15 16]] \n",
      "\n"
     ]
    }
   ],
   "source": [
    "import numpy as np\n",
    "\n",
    "A = np.array([[int(input(f\"Enter element A({i+1},{j+1}): \")) for j in range(4)] for i in range(4)])\n",
    "\n",
    "B = np.array([\n",
    "    A[:2, :2],  # Top-left\n",
    "    A[:2, 2:],  # Top-right\n",
    "    A[2:, :2],  # Bottom-left\n",
    "    A[2:, 2:]   # Bottom-right\n",
    "])\n",
    "\n",
    "print(\"Array B:\")\n",
    "for block in B:\n",
    "    print(block, \"\\n\")\n"
   ]
  }
 ],
 "metadata": {
  "kernelspec": {
   "display_name": "Python 3 (ipykernel)",
   "language": "python",
   "name": "python3"
  },
  "language_info": {
   "codemirror_mode": {
    "name": "ipython",
    "version": 3
   },
   "file_extension": ".py",
   "mimetype": "text/x-python",
   "name": "python",
   "nbconvert_exporter": "python",
   "pygments_lexer": "ipython3",
   "version": "3.12.2"
  }
 },
 "nbformat": 4,
 "nbformat_minor": 4
}
