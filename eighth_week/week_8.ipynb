{
 "cells": [
  {
   "cell_type": "markdown",
   "metadata": {},
   "source": [
    "# Week 8\n",
    "## TA Solution by\n",
    "### Abhisek Sarkar\n",
    "#### as20ms091@iiserkol.ac.in"
   ]
  },
  {
   "cell_type": "markdown",
   "metadata": {},
   "source": [
    "#### Q1.\n",
    "Use Rectangular method, Trapezoidal rule and Simpson’s rule applying the original formulas to find the approximate integral of the function 1/x in the interval [1, 2]. Compare the approximate values with other actual values of the integral. Repeat the above using scipy.integrate for Trapezoidal and Simpson’s rules."
   ]
  },
  {
   "cell_type": "code",
   "execution_count": 28,
   "metadata": {},
   "outputs": [
    {
     "name": "stdout",
     "output_type": "stream",
     "text": [
      "[1.  1.1 1.2 1.3 1.4 1.5 1.6 1.7 1.8 1.9]\n"
     ]
    }
   ],
   "source": [
    "import numpy as np\n",
    "N = 10\n",
    "xs, h = np.linspace(1, 2, N, endpoint=False, retstep=True)\n",
    "\n",
    "print(xs)\n"
   ]
  },
  {
   "cell_type": "code",
   "execution_count": 29,
   "metadata": {},
   "outputs": [
    {
     "name": "stdout",
     "output_type": "stream",
     "text": [
      "0.1\n"
     ]
    }
   ],
   "source": [
    "print(h)"
   ]
  },
  {
   "cell_type": "code",
   "execution_count": 30,
   "metadata": {},
   "outputs": [
    {
     "name": "stdout",
     "output_type": "stream",
     "text": [
      "[1.         0.90909091 0.83333333 0.76923077 0.71428571 0.66666667\n",
      " 0.625      0.58823529 0.55555556 0.52631579]\n"
     ]
    }
   ],
   "source": [
    "ys = 1.0/xs\n",
    "print(ys)"
   ]
  },
  {
   "cell_type": "code",
   "execution_count": 31,
   "metadata": {},
   "outputs": [
    {
     "name": "stdout",
     "output_type": "stream",
     "text": [
      "Rectangular=0.71877\n"
     ]
    }
   ],
   "source": [
    "#Rectangular\n",
    "Irect = h*np.sum(ys)\n",
    "\n",
    "print(\"Rectangular=%.5f\" %(Irect))"
   ]
  },
  {
   "cell_type": "code",
   "execution_count": 32,
   "metadata": {},
   "outputs": [
    {
     "name": "stdout",
     "output_type": "stream",
     "text": [
      "Actual=0.090909\n"
     ]
    }
   ],
   "source": [
    "import scipy.integrate as spi\n",
    "\n",
    "#Trapezoidal rule\n",
    "print(\"Actual=%f\" %(1/11.))\n"
   ]
  },
  {
   "cell_type": "code",
   "execution_count": 33,
   "metadata": {},
   "outputs": [],
   "source": [
    "\n",
    "\n",
    "xs, h = np.linspace(1, 2, N, endpoint=True, retstep=True)\n",
    "ys = 1.0/xs\n",
    "#print(ys)\n"
   ]
  },
  {
   "cell_type": "code",
   "execution_count": 34,
   "metadata": {},
   "outputs": [
    {
     "name": "stdout",
     "output_type": "stream",
     "text": [
      "Trapezoidal=0.69392\n"
     ]
    }
   ],
   "source": [
    "Itrap = h*(0.5*(ys[0] + ys[-1]) + np.sum(ys[1:-1]))\n",
    "print(\"Trapezoidal=%.5f\" %(Itrap))\n"
   ]
  },
  {
   "cell_type": "code",
   "execution_count": 35,
   "metadata": {},
   "outputs": [
    {
     "name": "stdout",
     "output_type": "stream",
     "text": [
      "Trapezoidal scipy=0.693918\n"
     ]
    },
    {
     "name": "stderr",
     "output_type": "stream",
     "text": [
      "/tmp/ipykernel_82087/1713181668.py:1: DeprecationWarning: 'scipy.integrate.trapz' is deprecated in favour of 'scipy.integrate.trapezoid' and will be removed in SciPy 1.14.0\n",
      "  Itrap1 = spi.trapz(ys, xs)\n"
     ]
    }
   ],
   "source": [
    "\n",
    "Itrap1 = spi.trapz(ys, xs)\n",
    "print(\"Trapezoidal scipy=%f\" %(Itrap1))\n"
   ]
  },
  {
   "cell_type": "code",
   "execution_count": 36,
   "metadata": {},
   "outputs": [
    {
     "name": "stdout",
     "output_type": "stream",
     "text": [
      "[1.         0.90909091 0.83333333 0.76923077 0.71428571 0.66666667\n",
      " 0.625      0.58823529 0.55555556 0.52631579 0.5       ]\n",
      "[1.  1.1 1.2 1.3 1.4 1.5 1.6 1.7 1.8 1.9 2. ]\n"
     ]
    }
   ],
   "source": [
    "#from scipy.integrate import simps\n",
    "\n",
    "#Simpson's rule\n",
    "\n",
    "xs, h = np.linspace(1, 2, N+1, endpoint=True, retstep=True)\n",
    "ys = 1.0/xs\n",
    "print(ys)\n",
    "print(xs)\n",
    "\n"
   ]
  },
  {
   "cell_type": "code",
   "execution_count": 37,
   "metadata": {},
   "outputs": [
    {
     "name": "stdout",
     "output_type": "stream",
     "text": [
      "Simp=0.69315\n"
     ]
    }
   ],
   "source": [
    "Isimp = (h/3.)*(ys[0] + ys[-1] + 4*np.sum(ys[1:-1:2]) + 2*np.sum(ys[2:-1:2]))\n",
    "print(\"Simp=%.5f\" %(Isimp))"
   ]
  },
  {
   "cell_type": "code",
   "execution_count": 38,
   "metadata": {},
   "outputs": [
    {
     "name": "stdout",
     "output_type": "stream",
     "text": [
      "Actual=0.693147\n",
      "Error simp = 0.00000\n",
      "Error trap = 0.00077\n"
     ]
    }
   ],
   "source": [
    "import math\n",
    "\n",
    "actual = math.log(2)\n",
    "\n",
    "print(\"Actual=%f\" %(actual))\n",
    "\n",
    "print(\"Error simp = %.5f\" %(abs(Isimp-actual)))\n",
    "print(\"Error trap = %.5f\" %(abs(Itrap-actual)))"
   ]
  },
  {
   "cell_type": "code",
   "execution_count": 39,
   "metadata": {},
   "outputs": [
    {
     "name": "stdout",
     "output_type": "stream",
     "text": [
      "Simp scipy = 0.693150\n"
     ]
    },
    {
     "name": "stderr",
     "output_type": "stream",
     "text": [
      "/tmp/ipykernel_82087/846209821.py:1: DeprecationWarning: 'scipy.integrate.simps' is deprecated in favour of 'scipy.integrate.simpson' and will be removed in SciPy 1.14.0\n",
      "  Isimp1 = spi.simps(ys, xs)\n"
     ]
    }
   ],
   "source": [
    "Isimp1 = spi.simps(ys, xs)\n",
    "print(\"Simp scipy = %f\" %(Isimp1))"
   ]
  },
  {
   "cell_type": "markdown",
   "metadata": {},
   "source": [
    "This code numerically approximates the integral:\n",
    "\n",
    "\\[\n",
    "$I = \\int_1^2 \\frac{1}{x} \\,dx$\n",
    "\\]\n",
    "\n",
    "using different numerical integration methods: **Rectangular (Midpoint) Rule**, **Trapezoidal Rule**, and **Simpson’s Rule**. It also compares the results with the exact value \\( I = \\ln(2) \\).\n",
    "\n",
    "---\n",
    "\n",
    "## **1. Understanding Numerical Integration**\n",
    "Numerical integration approximates the definite integral of a function when an analytical solution is difficult or impossible to obtain. The three methods used in this code are:\n",
    "\n",
    "### **(i) Rectangular Rule**\n",
    "The rectangular rule estimates the integral as:\n",
    "\n",
    "\\[\n",
    "$I \\approx h \\sum f(x_i)$\n",
    "\\]\n",
    "\n",
    "where:\n",
    "- \\( $h$ \\) is the step size.\n",
    "- \\( $f(x_i)$ \\) is the function value at discrete points.\n",
    "\n",
    "### **(ii) Trapezoidal Rule**\n",
    "This method approximates the integral by dividing the area under the curve into **trapezoids** instead of rectangles:\n",
    "\n",
    "\\[\n",
    "$I \\approx h \\left( \\frac{f(x_0) + f(x_N)}{2} + \\sum_{i=1}^{N-1} f(x_i) \\right)$\n",
    "\\]\n",
    "\n",
    "This provides a better approximation than the rectangular rule.\n",
    "\n",
    "### **(iii) Simpson’s Rule**\n",
    "Simpson's rule provides an even better approximation using parabolic segments instead of linear ones:\n",
    "\n",
    "\\[\n",
    "$I \\approx \\frac{h}{3} \\left( f(x_0) + f(x_N) + 4 \\sum_{\\text{odd indices}} f(x_i) + 2 \\sum_{\\text{even indices}} f(x_i) \\right)$\n",
    "\\]\n",
    "\n",
    "This method is much more accurate for smooth functions.\n",
    "\n",
    "---\n",
    "\n",
    "## **2. Breaking Down the Code**\n",
    "### **Step 1: Import Required Libraries**\n",
    "```python\n",
    "import numpy as np\n",
    "import scipy.integrate as spi\n",
    "import math\n",
    "```\n",
    "- `numpy` is used for array operations.\n",
    "- `scipy.integrate` provides numerical integration functions.\n",
    "- `math` is used for the exact analytical solution \\( \\ln(2) \\).\n",
    "\n",
    "---\n",
    "\n",
    "### **Step 2: Rectangular Rule Approximation**\n",
    "```python\n",
    "N = 10  # Number of intervals\n",
    "xs, h = np.linspace(1, 2, N, endpoint=False, retstep=True)\n",
    "ys = 1.0 / xs\n",
    "Irect = h * np.sum(ys)\n",
    "print(\"Rectangular=%.5f\" %(Irect))\n",
    "```\n",
    "- `np.linspace(1, 2, N, endpoint=False, retstep=True)` creates **N equally spaced points** between **1 and 2**, excluding the endpoint.\n",
    "- `h` is the step size.\n",
    "- `ys = 1.0 / xs` calculates \\( f(x) \\) for all points.\n",
    "- The **rectangular rule** sums up all function values and multiplies by \\( h \\).\n",
    "\n",
    "---\n",
    "\n",
    "### **Step 3: Trapezoidal Rule Approximation**\n",
    "```python\n",
    "xs, h = np.linspace(1, 2, N, endpoint=True, retstep=True)\n",
    "ys = 1.0 / xs\n",
    "Itrap = h * (0.5 * (ys[0] + ys[-1]) + np.sum(ys[1:-1]))\n",
    "print(\"Trapezoidal=%.5f\" %(Itrap))\n",
    "```\n",
    "- This time, `endpoint=True` ensures that **2 is included**.\n",
    "- The formula for the **trapezoidal rule** is applied.\n",
    "- The first and last function values are weighted by **0.5**, while the rest are summed normally.\n",
    "\n",
    "Using SciPy’s built-in function:\n",
    "```python\n",
    "Itrap1 = spi.trapz(ys, xs)\n",
    "print(\"Trapezoidal scipy=%f\" %(Itrap1))\n",
    "```\n",
    "- `spi.trapz(ys, xs)` applies the **trapezoidal rule** automatically.\n",
    "\n",
    "---\n",
    "\n",
    "### **Step 4: Simpson’s Rule Approximation**\n",
    "```python\n",
    "xs, h = np.linspace(1, 2, N+1, endpoint=True, retstep=True)\n",
    "ys = 1.0 / xs\n",
    "Isimp = (h/3.) * (ys[0] + ys[-1] + 4*np.sum(ys[1:-1:2]) + 2*np.sum(ys[2:-1:2]))\n",
    "print(\"Simp=%.5f\" %(Isimp))\n",
    "```\n",
    "- A finer grid is used by increasing `N+1` for Simpson’s rule.\n",
    "- The **Simpson’s rule formula** is applied manually:\n",
    "  - **Odd-indexed terms** are multiplied by **4**.\n",
    "  - **Even-indexed terms** are multiplied by **2**.\n",
    "  - The first and last function values remain unchanged.\n",
    "\n",
    "Using SciPy’s built-in function:\n",
    "```python\n",
    "Isimp1 = spi.simps(ys, xs)\n",
    "print(\"Simp scipy = %f\" %(Isimp1))\n",
    "```\n",
    "- `spi.simps(ys, xs)` applies **Simpson’s rule** automatically.\n",
    "\n",
    "---\n",
    "\n",
    "### **Step 5: Comparing with the Exact Value**\n",
    "```python\n",
    "actual = math.log(2)\n",
    "print(\"Actual=%f\" %(actual))\n",
    "print(\"Error simp = %.5f\" %(abs(Isimp-actual)))\n",
    "print(\"Error trap = %.5f\" %(abs(Itrap-actual)))\n",
    "```\n",
    "- The actual integral is **ln(2)**.\n",
    "- Errors are computed by **taking the absolute difference**.\n",
    "\n",
    "---\n",
    "\n",
    "## **3. Results and Observations**\n",
    "| Method                 | Approximate Integral | Error |\n",
    "|------------------------|---------------------|-------|\n",
    "| Rectangular Rule       | Lower Accuracy      | Large Error |\n",
    "| Trapezoidal Rule       | Moderate Accuracy   | Small Error |\n",
    "| Simpson’s Rule         | Highest Accuracy    | Smallest Error |\n",
    "\n",
    "- The **rectangular rule** is the least accurate.\n",
    "- The **trapezoidal rule** improves accuracy but still has noticeable error.\n",
    "- The **Simpson’s rule** provides the best approximation.\n",
    "\n",
    "---\n",
    "\n",
    "## **4. Conclusion**\n",
    "This code demonstrates numerical integration techniques and their accuracy. Simpson’s rule is generally **the best choice** for smooth functions due to its higher-order polynomial approximation."
   ]
  },
  {
   "cell_type": "markdown",
   "metadata": {},
   "source": [
    "#### Q2.\n",
    "Given the plot of land in the figure below, use the formula of Rectangular rule to approximate the area (shown in black). Do the same using both the original formulas and scipy implementations of Trapezoidal rule and Simpson’s rule. Compute the actual area (hint: use the formula of a circle) and compare the approximate values for this area by printing the percentage accuracy (abs(approx-actual)/actual)*100) for all the above approximate values."
   ]
  },
  {
   "cell_type": "code",
   "execution_count": 40,
   "metadata": {},
   "outputs": [
    {
     "name": "stdout",
     "output_type": "stream",
     "text": [
      "[5.         4.97493719 4.89897949 4.76969601 4.58257569 4.33012702\n",
      " 4.         3.57071421 3.         2.17944947]\n",
      "Rectangular=20.65324\n",
      "Trapezoidal=19.36366\n",
      "Trapezoidal \n",
      "[5.         4.97493719 4.89897949 4.76969601 4.58257569 4.33012702\n",
      " 4.         3.57071421 3.         2.17944947 0.        ]\n",
      "[0.  0.5 1.  1.5 2.  2.5 3.  3.5 4.  4.5 5. ]\n",
      "Simp=19.54380\n",
      "Actual=19.634954\n",
      "Simp scipy = 19.543801\n",
      "Error rect = 5.18609\n",
      "Error trap original = 1.38170\n",
      "Error trap scipy = 0.27130\n",
      "Error simp original = 0.46424\n",
      "Error trap scipy = 0.46424\n"
     ]
    },
    {
     "name": "stderr",
     "output_type": "stream",
     "text": [
      "/tmp/ipykernel_82087/1566810242.py:27: DeprecationWarning: 'scipy.integrate.trapz' is deprecated in favour of 'scipy.integrate.trapezoid' and will be removed in SciPy 1.14.0\n",
      "  Itrap1 = spi.trapz(ys, xs)\n",
      "/tmp/ipykernel_82087/1566810242.py:52: DeprecationWarning: 'scipy.integrate.simps' is deprecated in favour of 'scipy.integrate.simpson' and will be removed in SciPy 1.14.0\n",
      "  Isimp1 = spi.simps(ys, xs)\n"
     ]
    }
   ],
   "source": [
    "#scipy=%f\n",
    "import numpy as np\n",
    "N = 10\n",
    "xs, h = np.linspace(0, 5, N, endpoint=False, retstep=True)\n",
    "\n",
    "#print(xs)\n",
    "#print(h)\n",
    "\n",
    "ys = np.sqrt(25 - xs*xs)\n",
    "print(ys)\n",
    "#Rectangular\n",
    "Irect = h*np.sum(ys)\n",
    "\n",
    "print(\"Rectangular=%.5f\" %(Irect))\n",
    "\n",
    "import scipy.integrate as spi\n",
    "\n",
    "#Trapezoidal rule\n",
    "\n",
    "#print(\"Actual=%f\" %(1/11.))\n",
    "xs, h = np.linspace(0, 5, N, endpoint=True, retstep=True)\n",
    "ys = np.sqrt(25 - xs*xs)\n",
    "#print(ys)\n",
    "Itrap = h*(0.5*(ys[0] + ys[-1]) + np.sum(ys[1:-1]))\n",
    "print(\"Trapezoidal=%.5f\" %(Itrap))\n",
    "\n",
    "Itrap1 = spi.trapz(ys, xs)\n",
    "print(\"Trapezoidal \" %(Itrap1))\n",
    "\n",
    "#from scipy.integrate import simps\n",
    "\n",
    "#Simpson's rule\n",
    "\n",
    "xs, h = np.linspace(0, 5, N+1, endpoint=True, retstep=True)\n",
    "ys = np.sqrt(25 - xs*xs)\n",
    "print(ys)\n",
    "print(xs)\n",
    "\n",
    "Isimp = (h/3.)*(ys[0] + ys[-1] + 4*np.sum(ys[1:-1:2]) + 2*np.sum(ys[2:-1:2]))\n",
    "print(\"Simp=%.5f\" %(Isimp))\n",
    "\n",
    "import math\n",
    "\n",
    "actual = math.pi*5*5*0.25\n",
    "\n",
    "print(\"Actual=%f\" %(actual))\n",
    "\n",
    "\n",
    "\n",
    "\n",
    "\n",
    "Isimp1 = spi.simps(ys, xs)\n",
    "print(\"Simp scipy = %f\" %(Isimp1))\n",
    "\n",
    "print(\"Error rect = %.5f\" %((abs(Irect-actual)/actual)*100))\n",
    "print(\"Error trap original = %.5f\" %((abs(Itrap-actual)/actual)*100))\n",
    "print(\"Error trap scipy = %.5f\" %((abs(Itrap1-actual)/100)*100))\n",
    "\n",
    "print(\"Error simp original = %.5f\" %((abs(Isimp-actual)/actual)*100))\n",
    "print(\"Error trap scipy = %.5f\" %((abs(Isimp1-actual)/actual)*100))\n"
   ]
  },
  {
   "cell_type": "markdown",
   "metadata": {},
   "source": [
    "# Q3.\n",
    "Simulate a dice game for a single player named Shakuni. The player throws the dice until he gets a six, when he stops. Use random.uniform(a, b) [generates uniformly distributed random number between a & b] to simulate the outcome using the scheme: random number < 1 ⇒  side ‘one’ appears, random number >=1 and <2 ⇒ side ‘two’ appears and so on. Plot the outcomes (along y-axis, with trial number along x-axis) using matplotlib.pyplot.plot. Also, indicate the first and last throws as “start” and “stop” respectively on the plot using matplotlib.pyplot.text(x, y, t) [prints t on the plot at (x,y)].\n"
   ]
  },
  {
   "cell_type": "code",
   "execution_count": 41,
   "metadata": {},
   "outputs": [
    {
     "name": "stdout",
     "output_type": "stream",
     "text": [
      "Five\n",
      "Three\n",
      "Three\n",
      "Two\n",
      "Six\n",
      "[1, 2, 3, 4, 5]\n",
      "[5, 3, 3, 2, 6]\n"
     ]
    },
    {
     "data": {
      "image/png": "[encoded data removed]",
      "text/plain": [
       "<Figure size 640x480 with 1 Axes>"
      ]
     },
     "metadata": {},
     "output_type": "display_data"
    }
   ],
   "source": [
    "import random\n",
    "\n",
    "x = []\n",
    "y = []\n",
    "\n",
    "for i in range(1, 1000):\n",
    "    x.append(i)\n",
    "    r = random.uniform(0, 6)\n",
    "    if r < 1:\n",
    "        print(\"One\")\n",
    "        y.append(1)\n",
    "    elif r < 2:\n",
    "        print(\"Two\")\n",
    "        y.append(2)\n",
    "    elif r < 3:\n",
    "        print(\"Three\")\n",
    "        y.append(3)\n",
    "    elif r < 4:\n",
    "        print(\"Four\")\n",
    "        y.append(4)\n",
    "    elif r < 5:\n",
    "        print(\"Five\")\n",
    "        y.append(5)\n",
    "    else:\n",
    "        print(\"Six\")\n",
    "        y.append(6)\n",
    "        break\n",
    "\n",
    "\n",
    "print(x)\n",
    "print(y)\n",
    "\n",
    "import matplotlib.pyplot as plt\n",
    "plt.text(x[0], y[0]-0.5, \"start\") #prints \"start\" at coordinates (x[0], y[0]-0.5)\n",
    "plt.text(x[-1], y[-1]-0.5, \"six\") #print \"six\" at the last throw\n",
    "plt.plot(x, y, 'o:r')\n",
    "plt.xlabel(\"throws\")\n",
    "plt.ylabel(\"number on dice\")\n",
    "#plt.show()\n",
    "plt.savefig(\"dice.png\")\n"
   ]
  },
  {
   "cell_type": "markdown",
   "metadata": {},
   "source": [
    "### Q4\n",
    "Take marks of three subjects of three students as input. marks1 contain the marks of three subjects of student 1; similarly store marks2 and marks3. Also, take their names. Now store the subjectwise average (use numpy.mean()) in avg and plot the same using matplotlib.pyplot.bar.\n"
   ]
  },
  {
   "cell_type": "code",
   "execution_count": 45,
   "metadata": {},
   "outputs": [
    {
     "name": "stdout",
     "output_type": "stream",
     "text": [
      "[68.66666667 60.33333333 31.33333333]\n"
     ]
    },
    {
     "data": {
      "image/png": "[encoded data removed]",
      "text/plain": [
       "<Figure size 640x480 with 1 Axes>"
      ]
     },
     "metadata": {},
     "output_type": "display_data"
    }
   ],
   "source": [
    "names = input(\"Give student first names (space separated, put enter to finish): \").split(\" \")\n",
    "marks1 = input(\"Give marks of student 1 (space separated, put enter to finish): \").split(\" \")\n",
    "marks2 = input(\"Give marks of student 2 (space separated, put enter to finish): \").split(\" \")\n",
    "\n",
    "marks3 = input(\"Give student marks of student 3 (space separated, put enter to finish): \").split(\" \")\n",
    "\n",
    "\n",
    "\n",
    "\n",
    "import numpy as np\n",
    "\n",
    "marks1_np = np.array(marks1, dtype='int')\n",
    "marks2_np = np.array(marks2, dtype='int')\n",
    "marks3_np = np.array(marks3, dtype='int')\n",
    "\n",
    "\n",
    "avg = np.mean([marks1_np, marks2_np, marks3_np], axis = 1)\n",
    "\n",
    "print(avg)\n",
    "\n",
    "import matplotlib.pyplot as plt\n",
    "\n",
    "plt.bar(names, avg)\n",
    "plt.xlabel(\"Students\")\n",
    "plt.ylabel(\"Average marks\")\n",
    "\n",
    "plt.show()\n"
   ]
  },
  {
   "cell_type": "markdown",
   "metadata": {},
   "source": [
    "### Q5\n",
    "Take a sentence (e.g. \"Information Retrieval is the science of search engines\") as input. Consider a list of stopwords (unimportant words) stop = [\"i\", \"me\", \"my\", \"myself\", \"we\", \"our\", \"ours\", \"ourselves\", \"you\", \"your\", \"yours\", \"yourself\", \"yourselves\", \"he\", \"him\", \"his\", \"himself\", \"she\", \"her\", \"hers\", \"herself\", \"it\", \"its\", \"itself\", \"they\", \"them\", \"their\", \"theirs\", \"themselves\", \"what\", \"which\", \"who\", \"whom\", \"this\", \"that\", \"these\", \"those\", \"am\", \"is\", \"are\", \"was\", \"were\", \"be\", \"been\", \"being\", \"have\", \"has\", \"had\", \"having\", \"do\", \"does\", \"did\", \"doing\", \"a\", \"an\", \"the\", \"and\", \"but\", \"if\", \"or\", \"because\", \"as\", \"until\", \"while\", \"of\", \"at\", \"by\", \"for\", \"with\", \"about\", \"against\", \"between\", \"into\", \"through\", \"during\", \"before\", \"after\", \"above\", \"below\", \"to\", \"from\", \"up\", \"down\", \"in\", \"out\", \"on\", \"off\", \"over\", \"under\", \"again\", \"further\", \"then\", \"once\", \"here\", \"there\", \"when\", \"where\", \"why\", \"how\", \"all\", \"any\", \"both\", \"each\", \"few\", \"more\", \"most\", \"other\", \"some\", \"such\", \"no\", \"nor\", \"not\", \"only\", \"own\", \"same\", \"so\", \"than\", \"too\", \"very\", \"s\", \"t\", \"can\", \"will\", \"just\", \"don\", \"should\", \"now\"]. Write a function preprocess that converts the input string to lowercase and removes all the stopwords. Finally print the preprocessed input string on the terminal. The output for the example input will be “information retrieval science search engines”.\n"
   ]
  },
  {
   "cell_type": "code",
   "execution_count": null,
   "metadata": {},
   "outputs": [
    {
     "name": "stdout",
     "output_type": "stream",
     "text": [
      "information retrieval science search engines\n"
     ]
    }
   ],
   "source": [
    "def preprocess(s):\n",
    "    s = s.lower()\n",
    "    s = s.split(\" \")\n",
    "    stop = [\"i\", \"me\", \"my\", \"myself\", \"we\", \"our\", \"ours\", \"ourselves\", \"you\", \"your\", \"yours\", \"yourself\", \"yourselves\", \"he\", \"him\", \"his\", \"himself\", \"she\", \"her\", \"hers\", \"herself\", \"it\", \"its\", \"itself\", \"they\", \"them\", \"their\", \"theirs\", \"themselves\", \"what\", \"which\", \"who\", \"whom\", \"this\", \"that\", \"these\", \"those\", \"am\", \"is\", \"are\", \"was\", \"were\", \"be\", \"been\", \"being\", \"have\", \"has\", \"had\", \"having\", \"do\", \"does\", \"did\", \"doing\", \"a\", \"an\", \"the\", \"and\", \"but\", \"if\", \"or\", \"because\", \"as\", \"until\", \"while\", \"of\", \"at\", \"by\", \"for\", \"with\", \"about\", \"against\", \"between\", \"into\", \"through\", \"during\", \"before\", \"after\", \"above\", \"below\", \"to\", \"from\", \"up\", \"down\", \"in\", \"out\", \"on\", \"off\", \"over\", \"under\", \"again\", \"further\", \"then\", \"once\", \"here\", \"there\", \"when\", \"where\", \"why\", \"how\", \"all\", \"any\", \"both\", \"each\", \"few\", \"more\", \"most\", \"other\", \"some\", \"such\", \"no\", \"nor\", \"not\", \"only\", \"own\", \"same\", \"so\", \"than\", \"too\", \"very\", \"s\", \"t\", \"can\", \"will\", \"just\", \"don\", \"should\", \"now\"]\n",
    "    s_out = []\n",
    "    for w in s:\n",
    "        if w not in stop:\n",
    "            s_out.append(w)\n",
    "    return s_out\n",
    "\n",
    "dd=input(\"Give a text: \") #example: Information Retrieval is the science of search engines\n",
    "print(' '.join(preprocess(dd)))\n"
   ]
  },
  {
   "cell_type": "markdown",
   "metadata": {},
   "source": [
    "### Q6\n",
    "Consider five documents \n",
    "doc1 : \"Information Retrieval is the science of search engines\", \n",
    " \tdoc2 : \"This is the age of information technology\", \n",
    " \tdoc3 : \"Mathematics in the language of science\", \n",
    " \tdoc4 : \"Efficient retrieval of important data is the feature of any sound search system.\", \n",
    "  \tdoc5 : \"Gerard Salton is the father of Information Retrieval\"\n",
    " \n",
    "Use the preprocess function of Q5 to lowercase and remove stopwords from these documents. \n",
    "Now take a query string q as input from the user and preprocess it using the preprocess function. \n",
    "Now, print the documents that contain \n",
    "(i) at least one word in q and \n",
    "(ii) all the words in q\n",
    "\n",
    "For example, if the query q is “Information Retrieval” for (i) doc1, doc2, doc4 and doc5 will be printed while for (ii) doc1 and doc5 will be printed.\n"
   ]
  },
  {
   "cell_type": "code",
   "execution_count": null,
   "metadata": {},
   "outputs": [
    {
     "name": "stdout",
     "output_type": "stream",
     "text": [
      "['information', 'retrieval', 'science', 'search', 'engines']\n",
      "['age', 'information', 'technology']\n",
      "['mathematics', 'language', 'science']\n",
      "['efficient', 'retrieval', 'important', 'data', 'feature', 'sound', 'search', 'system.']\n",
      "['gerard', 'salton', 'father', 'information', 'retrieval']\n",
      "['information', 'retrieval']\n",
      "doc1\n",
      "doc5\n"
     ]
    }
   ],
   "source": [
    "def preprocess(s):\n",
    "    s = s.lower()\n",
    "    s = s.split(\" \")\n",
    "    stop = [\"i\", \"me\", \"my\", \"myself\", \"we\", \"our\", \"ours\", \"ourselves\", \"you\", \"your\", \"yours\", \"yourself\", \"yourselves\", \"he\", \"him\", \"his\", \"himself\", \"she\", \"her\", \"hers\", \"herself\", \"it\", \"its\", \"itself\", \"they\", \"them\", \"their\", \"theirs\", \"themselves\", \"what\", \"which\", \"who\", \"whom\", \"this\", \"that\", \"these\", \"those\", \"am\", \"is\", \"are\", \"was\", \"were\", \"be\", \"been\", \"being\", \"have\", \"has\", \"had\", \"having\", \"do\", \"does\", \"did\", \"doing\", \"a\", \"an\", \"the\", \"and\", \"but\", \"if\", \"or\", \"because\", \"as\", \"until\", \"while\", \"of\", \"at\", \"by\", \"for\", \"with\", \"about\", \"against\", \"between\", \"into\", \"through\", \"during\", \"before\", \"after\", \"above\", \"below\", \"to\", \"from\", \"up\", \"down\", \"in\", \"out\", \"on\", \"off\", \"over\", \"under\", \"again\", \"further\", \"then\", \"once\", \"here\", \"there\", \"when\", \"where\", \"why\", \"how\", \"all\", \"any\", \"both\", \"each\", \"few\", \"more\", \"most\", \"other\", \"some\", \"such\", \"no\", \"nor\", \"not\", \"only\", \"own\", \"same\", \"so\", \"than\", \"too\", \"very\", \"s\", \"t\", \"can\", \"will\", \"just\", \"don\", \"should\", \"now\"]\n",
    "    s_out = []\n",
    "    for w in s:\n",
    "        if w not in stop:\n",
    "            s_out.append(w)\n",
    "    return s_out\n",
    "\n",
    "def BAND(coll, q):\n",
    "    length = len(q)\n",
    "    \n",
    "    for key in coll:\n",
    "        match = 0\n",
    "        for w in q:\n",
    "            #print(\"w: \"+w)\n",
    "            if w in coll[key]:\n",
    "                match = match + 1\n",
    "        #print(str(match))        \n",
    "        if match == length:\n",
    "            print(key)\n",
    "            \n",
    "def BOR(coll, q):\n",
    "    length = len(q)\n",
    "    \n",
    "    for key in coll:\n",
    "        match = 0\n",
    "        for w in q:\n",
    "            #print(\"w: \"+w)\n",
    "            if w in coll[key]:\n",
    "                match = match + 1\n",
    "        #print(str(match))        \n",
    "        if match > 0:\n",
    "            print(key)            \n",
    "           \n",
    "        \n",
    "\n",
    "coll = {\"doc1\" : \"Information Retrieval is the science of search engines\", \n",
    "        \"doc2\" : \"This is the age of information technology\", \n",
    "        \"doc3\" : \"Mathematics in the language of science\", \n",
    "        \"doc4\" : \"Efficient retrieval of important data is the feature of any sound search system.\", \n",
    "        \"doc5\" : \"Gerard Salton is the father of Information Retrieval\"}\n",
    "\n",
    "for key in coll:\n",
    "    coll[key] = preprocess(coll[key])\n",
    "    print(coll[key])\n",
    "    \n",
    "q = \"information retrieval\".split(\" \")\n",
    "\n",
    "print(q)\n",
    "\n",
    "BAND(coll, q)\n",
    "#BOR(coll, q)\n"
   ]
  },
  {
   "cell_type": "markdown",
   "metadata": {},
   "source": [
    "### Q7\n",
    "In the setup of Q6, print the sorted list of documents for a given query in the decreasing order of  the degree of match (number of words matched between query and document). That is a document with more number of word matches with the query will the ranked higher. Ties are broken arbitrarily. For example, if the query is “Information Retrieval”, the list should be:\n",
    "doc1\n",
    "doc5\n",
    "doc2\n",
    "doc4\n",
    "doc3\n",
    "\n",
    "Note that sorted_dict = dict ( sorted(rl.items(), key = lambda item: item[1], reverse=True) ) sorts the dictionary “rl” based on the value in the reverse order and stores it in sorted_dict.\n"
   ]
  },
  {
   "cell_type": "code",
   "execution_count": null,
   "metadata": {},
   "outputs": [
    {
     "name": "stdout",
     "output_type": "stream",
     "text": [
      "['information', 'retrieval', 'science', 'search', 'engines']\n",
      "['age', 'information', 'technology']\n",
      "['mathematics', 'language', 'science']\n",
      "['efficient', 'retrieval', 'important', 'data', 'feature', 'sound', 'search', 'system.']\n",
      "['gerard', 'salton', 'father', 'information', 'retrieval']\n",
      "['information', 'retrieval']\n",
      "doc1\n",
      "doc5\n",
      "doc2\n",
      "doc4\n",
      "doc3\n"
     ]
    }
   ],
   "source": [
    "def preprocess(s):\n",
    "    s = s.lower()\n",
    "    s = s.split(\" \")\n",
    "    stop = [\"i\", \"me\", \"my\", \"myself\", \"we\", \"our\", \"ours\", \"ourselves\", \"you\", \"your\", \"yours\", \"yourself\", \"yourselves\", \"he\", \"him\", \"his\", \"himself\", \"she\", \"her\", \"hers\", \"herself\", \"it\", \"its\", \"itself\", \"they\", \"them\", \"their\", \"theirs\", \"themselves\", \"what\", \"which\", \"who\", \"whom\", \"this\", \"that\", \"these\", \"those\", \"am\", \"is\", \"are\", \"was\", \"were\", \"be\", \"been\", \"being\", \"have\", \"has\", \"had\", \"having\", \"do\", \"does\", \"did\", \"doing\", \"a\", \"an\", \"the\", \"and\", \"but\", \"if\", \"or\", \"because\", \"as\", \"until\", \"while\", \"of\", \"at\", \"by\", \"for\", \"with\", \"about\", \"against\", \"between\", \"into\", \"through\", \"during\", \"before\", \"after\", \"above\", \"below\", \"to\", \"from\", \"up\", \"down\", \"in\", \"out\", \"on\", \"off\", \"over\", \"under\", \"again\", \"further\", \"then\", \"once\", \"here\", \"there\", \"when\", \"where\", \"why\", \"how\", \"all\", \"any\", \"both\", \"each\", \"few\", \"more\", \"most\", \"other\", \"some\", \"such\", \"no\", \"nor\", \"not\", \"only\", \"own\", \"same\", \"so\", \"than\", \"too\", \"very\", \"s\", \"t\", \"can\", \"will\", \"just\", \"don\", \"should\", \"now\"]\n",
    "    s_out = []\n",
    "    for w in s:\n",
    "        if w not in stop:\n",
    "            s_out.append(w)\n",
    "    return s_out\n",
    "\n",
    "def BAND(coll, q):\n",
    "    length = len(q)\n",
    "    \n",
    "    for key in coll:\n",
    "        match = 0\n",
    "        for w in q:\n",
    "            #print(\"w: \"+w)\n",
    "            if w in coll[key]:\n",
    "                match = match + 1\n",
    "        #print(str(match))        \n",
    "        if match == length:\n",
    "            print(key)\n",
    "            \n",
    "def BOR(coll, q):\n",
    "    length = len(q)\n",
    "    \n",
    "    for key in coll:\n",
    "        match = 0\n",
    "        for w in q:\n",
    "            #print(\"w: \"+w)\n",
    "            if w in coll[key]:\n",
    "                match = match + 1\n",
    "        #print(str(match))        \n",
    "        if match > 0:\n",
    "            print(key)            \n",
    "           \n",
    "        \n",
    "def RankedRet(coll, q):\n",
    "    length = len(q)\n",
    "    ranked_list = {}\n",
    "    \n",
    "    for key in coll:\n",
    "        match = 0\n",
    "        for w in q:\n",
    "            #print(\"w: \"+w)\n",
    "            if w in coll[key]:\n",
    "                match = match + 1\n",
    "        #print(str(match))        \n",
    "        ranked_list[key] = match\n",
    "        \n",
    "    return ranked_list       \n",
    "            \n",
    "coll = {\"doc1\" : \"Information Retrieval is the science of search engines\", \n",
    "        \"doc2\" : \"This is the age of information technology\", \n",
    "        \"doc3\" : \"Mathematics in the language of science\", \n",
    "        \"doc4\" : \"Efficient retrieval of important data is the feature of any sound search system.\", \n",
    "        \"doc5\" : \"Gerard Salton is the father of Information Retrieval\"}\n",
    "\n",
    "for key in coll:\n",
    "    coll[key] = preprocess(coll[key])\n",
    "    print(coll[key])\n",
    "    \n",
    "q = \"information retrieval\".split(\" \")\n",
    "\n",
    "print(q)\n",
    "\n",
    "#BAND(coll, q)\n",
    "#BOR(coll, q)\n",
    "\n",
    "rl = RankedRet(coll, q)\n",
    "sorted_dict = dict ( sorted(rl.items(), key = lambda item: item[1], reverse=True) )\n",
    "\n",
    "for k in sorted_dict:\n",
    "    print(k)\n"
   ]
  },
  {
   "cell_type": "markdown",
   "metadata": {},
   "source": [
    "### Q8.\n",
    "Consider an archery competition where a target (see figure below) is shot at by the participants. Consider that the maximum points are obtained by hitting the “bull’s eye” (the centre spot in the yellow zone), where any hit on the white zone (or outside) fetches no points. So, each attempt (in the increasing order of success) can be termed as 'miss', 'beginner', 'improver', 'seasoned', 'pro' or  'bull’s eye' according as the participant hits the white (or outside), black, blue, red, yellow or the bull’s eye respectively. Simulate the competition by a normal distribution (use np.random.normal()) such that the probability of hitting the white zone is the maximum (occurrence near the mean) and that of hitting the bull’s eye is the minimum (maximum distance away from the mean). Finally, plot the distribution of performances after n (large value) attempts as 'miss', 'beginner', 'improver', 'seasoned', 'pro', 'bull's eye' on a pie chart."
   ]
  },
  {
   "cell_type": "markdown",
   "metadata": {},
   "source": [
    "![Q8pic](Q8pic.png)\n"
   ]
  },
  {
   "cell_type": "code",
   "execution_count": 46,
   "metadata": {},
   "outputs": [
    {
     "name": "stdout",
     "output_type": "stream",
     "text": [
      "[0.378166   0.76847217 0.28394826 0.08733214 0.41963279 0.1995553\n",
      " 0.38206245 0.81897901 0.70912604 0.09106307 0.50478857 0.31767486\n",
      " 0.06536728 0.09394268 0.39619258 1.12527259 0.25987857 0.94574722\n",
      " 0.46975755 0.37770723 0.19002226 0.94306344 0.20698294 0.22609764\n",
      " 0.80264815 0.71074937 0.16645309 0.27730451 0.36642576 0.32090207\n",
      " 0.62047578 0.45535806 0.55410178 0.97285004 0.15638996 0.34939087\n",
      " 0.40952876 0.05672603 0.61544725 0.42411399 0.3113698  0.38068738\n",
      " 0.19008078 0.0518889  0.09958039 0.3276256  0.31098844 0.89283309\n",
      " 0.15865714 0.02714776 0.17935697 0.4944709  0.79242257 0.26572977\n",
      " 0.24188573 0.39840657 0.22921528 0.57481777 0.20376499 0.25188434\n",
      " 0.52033997 0.21888076 0.24651719 0.59581474 0.73763197 0.70893297\n",
      " 0.63857718 1.17479883 0.69417057 0.0641754  0.08402942 0.42263841\n",
      " 0.17885684 0.22952988 0.5942038  0.58871319 1.03479278 0.54455029\n",
      " 0.16051934 1.25477149 0.53976303 0.32395475 0.27964896 0.0682986\n",
      " 0.01659138 0.35768696 0.73020464 0.24083095 1.09220324 0.86661233\n",
      " 0.0186373  0.8105108  0.08298917 0.10758169 0.45696135 0.68192783\n",
      " 0.44357822 0.43968237 0.37178335 0.70079864]\n",
      "[0.2920210231868842, 0.6072467066687651, 0.21592729541169295, 0.05713285235414878, 0.3255111309370175, 0.14776842009663482, 0.29516793852395223, 0.6480378933964508, 0.5593165780803266, 0.06014608468184047, 0.39428609025134753, 0.2431661398298888, 0.03939321615968278, 0.06247176893710758, 0.3065799558367959, 0.8954119084958694, 0.19648772161128608, 0.7504205802717209, 0.365993741806861, 0.2916504986351143, 0.1400691859392336, 0.7482530657436831, 0.15376725338367453, 0.1692049927864103, 0.6348484862958915, 0.5606276360250131, 0.12103384868226805, 0.21056155681819505, 0.2825391663237066, 0.24577255277210153, 0.4877193494147148, 0.3543641782382131, 0.43411325702286385, 0.7723098230743117, 0.11290649458731816, 0.26878116473293157, 0.31735074423571197, 0.032414225212917626, 0.4836581263325015, 0.3291303135704927, 0.23807394367304754, 0.2940573801305787, 0.14011645107501017, 0.028507577256729782, 0.06702498687087853, 0.2512027278962373, 0.23776593983258193, 0.7076851797813107, 0.11473755218546954, 0.008525722272313426, 0.13145549993346914, 0.3859531578442765, 0.6265899304141485, 0.20121336392212968, 0.18195603913094321, 0.3083680509605743, 0.17172291802278375, 0.4508442585200916, 0.15116831918105608, 0.19003128710921433, 0.40684597255219057, 0.16337637944916084, 0.18569657513034926, 0.46780218213443786, 0.5823390189183828, 0.559160649856697, 0.5023387081596861, 0.935411123113158, 0.5472379858321881, 0.038430610524502466, 0.05446544709844957, 0.3279385817658687, 0.13105157857003752, 0.17197699882037285, 0.4665011323224678, 0.46206670657423493, 0.8223370690370955, 0.4263991187354877, 0.11624153943772132, 1.0, 0.4225327508481086, 0.24823801163023346, 0.21245501984256843, 0.04176065674034224, 0.0, 0.27548139330298116, 0.5763404339053024, 0.18110415847112074, 0.8687038798262471, 0.6865083229509317, 0.0016523623915334627, 0.6411986550077523, 0.053625302900509195, 0.07348713351596779, 0.3556590527670187, 0.537350300586241, 0.34485034506059165, 0.3417039165683015, 0.2868661598320078, 0.5525910619017005]\n",
      "[35. 31. 19. 10.  4.  1.]\n"
     ]
    },
    {
     "data": {
      "image/png": "[encoded data removed]",
      "text/plain": [
       "<Figure size 640x480 with 1 Axes>"
      ]
     },
     "metadata": {},
     "output_type": "display_data"
    }
   ],
   "source": [
    "import numpy as np\n",
    "\n",
    "\n",
    "s = abs(np.random.normal(0, 0.5, 100)) #random sample of size 100 generated from a normal distribution of mean 0 and s.d. 0.5\n",
    "print(s)    \n",
    "max1 = np.max(s)\n",
    "min1 = np.min(s)\n",
    "\n",
    "s1 = [(x-min1)/(max1-min1) for x in s]\n",
    "print(s1)\n",
    "sc = np.zeros(6)\n",
    "\n",
    "for x in s1:\n",
    "    if x < 0.2:\n",
    "        sc[0] = sc[0] + 1\n",
    "    elif x < 0.4:\n",
    "        sc[1] = sc[1] + 1\n",
    "    elif x < 0.6:\n",
    "        sc[2] = sc[2] + 1\n",
    "    elif x < 0.8:\n",
    "        sc[3] = sc[3] + 1 \n",
    "    elif x < 0.95:\n",
    "        sc[4] = sc[4] + 1     \n",
    "    else:\n",
    "        sc[5] = sc[5] + 1\n",
    "        \n",
    "print(sc)        \n",
    "\n",
    "import matplotlib.pyplot as plt\n",
    "plt.pie(sc, labels = ['miss', 'beginner', 'improver', 'seasoned', 'pro', 'bulls eye']) #Note that ‘miss’ is modelled on an event with the highest probability, with x-value close to the mean (0); similarly ‘bull’s eye’ is modelled on the rare events, i.e. with low probabilities\n",
    "\n",
    "plt.show()\n"
   ]
  },
  {
   "cell_type": "markdown",
   "metadata": {},
   "source": [
    "### Q9.\n",
    "Given the plot of land in the figure below, use the formula of Rectangular rule to approximate the area (shown in black). Do the same using both the original formulas and scipy implementations of Trapezoidal rule and Simpson’s rule. Compute the actual area (hint: area between an ellipse and a circle) and compare the approximate values for this area by printing the percentage accuracy (abs(approx-actual)/actual)*100) for all the above approximate values."
   ]
  },
  {
   "cell_type": "markdown",
   "metadata": {},
   "source": [
    "![Q9pic](Q9pic.png)"
   ]
  },
  {
   "cell_type": "code",
   "execution_count": 47,
   "metadata": {},
   "outputs": [
    {
     "name": "stdout",
     "output_type": "stream",
     "text": [
      "Rectangular=11.56581\n",
      "Trapezoidal ori=10.843649\n",
      "Trapezoidal scipy=10.843649\n",
      "Simpson ori=10.944529\n",
      "Simpson scipy=10.944529\n",
      "Actual=10.995574\n"
     ]
    },
    {
     "name": "stderr",
     "output_type": "stream",
     "text": [
      "/tmp/ipykernel_82087/2654235579.py:41: DeprecationWarning: 'scipy.integrate.trapz' is deprecated in favour of 'scipy.integrate.trapezoid' and will be removed in SciPy 1.14.0\n",
      "  Itrap1_c = spi.trapz(ys, xs)\n",
      "/tmp/ipykernel_82087/2654235579.py:49: DeprecationWarning: 'scipy.integrate.trapz' is deprecated in favour of 'scipy.integrate.trapezoid' and will be removed in SciPy 1.14.0\n",
      "  Itrap1_e = spi.trapz(ys, xs)\n",
      "/tmp/ipykernel_82087/2654235579.py:68: DeprecationWarning: 'scipy.integrate.simps' is deprecated in favour of 'scipy.integrate.simpson' and will be removed in SciPy 1.14.0\n",
      "  Isimp1_c = spi.simps(ys, xs)\n",
      "/tmp/ipykernel_82087/2654235579.py:83: DeprecationWarning: 'scipy.integrate.simps' is deprecated in favour of 'scipy.integrate.simpson' and will be removed in SciPy 1.14.0\n",
      "  Isimp1_e = spi.simps(ys, xs)\n"
     ]
    }
   ],
   "source": [
    "import numpy as np\n",
    "N = 10\n",
    "#circle\n",
    "xs, h = np.linspace(0, 4, N, endpoint=False, retstep=True)\n",
    "\n",
    "#print(xs)\n",
    "#print(h)\n",
    "\n",
    "ys = np.sqrt(16 - xs*xs)\n",
    "#print(ys)\n",
    "#Rectangular\n",
    "Irect_c = h*np.sum(ys)\n",
    "\n",
    "#ellipse\n",
    "xs, h = np.linspace(0, 5, N, endpoint=False, retstep=True)\n",
    "\n",
    "#print(xs)\n",
    "#print(h)\n",
    "\n",
    "ys = 6*np.sqrt(1 - xs*xs/25)\n",
    "#print(ys)\n",
    "#Rectangular\n",
    "Irect_e = h*np.sum(ys)\n",
    "\n",
    "print(\"Rectangular=%.5f\" %(Irect_e-Irect_c))\n",
    "\n",
    "#---------------------------------------\n",
    "\n",
    "import scipy.integrate as spi\n",
    "\n",
    "#Trapezoidal rule\n",
    "\n",
    "#print(\"Actual=%f\" %(1/11.))\n",
    "#circle\n",
    "xs, h = np.linspace(0, 4, N, endpoint=True, retstep=True)\n",
    "ys = np.sqrt(16 - xs*xs)\n",
    "#print(ys)\n",
    "Itrap_c = h*(0.5*(ys[0] + ys[-1]) + np.sum(ys[1:-1]))\n",
    "#print(\"Trapezoidal=%.5f\" %(Itrap))\n",
    "\n",
    "Itrap1_c = spi.trapz(ys, xs)\n",
    "#ellipse\n",
    "xs, h = np.linspace(0, 5, N, endpoint=True, retstep=True)\n",
    "ys = 6*np.sqrt(1 - xs*xs/25)\n",
    "#print(ys)\n",
    "Itrap_e = h*(0.5*(ys[0] + ys[-1]) + np.sum(ys[1:-1]))\n",
    "#print(\"Trapezoidal=%.5f\" %(Itrap))\n",
    "\n",
    "Itrap1_e = spi.trapz(ys, xs)\n",
    "\n",
    "print(\"Trapezoidal ori=%f\" %(Itrap_e - Itrap_c))\n",
    "print(\"Trapezoidal scipy=%f\" %(Itrap1_e - Itrap1_c))\n",
    "\n",
    "from scipy.integrate import simps\n",
    "\n",
    "#Simpson's rule\n",
    "#circle\n",
    "xs, h = np.linspace(0, 4, N+1, endpoint=True, retstep=True)\n",
    "ys = np.sqrt(16 - xs*xs)\n",
    "#print(ys)\n",
    "#print(xs)\n",
    "\n",
    "Isimp_c = (h/3.)*(ys[0] + ys[-1] + 4*np.sum(ys[1:-1:2]) + 2*np.sum(ys[2:-1:2]))\n",
    "#print(\"Simp=%.5f\" %(Isimp))\n",
    "\n",
    "#import math\n",
    "\n",
    "Isimp1_c = spi.simps(ys, xs)\n",
    "\n",
    "\n",
    "\n",
    "\n",
    "#ellipse\n",
    "\n",
    "\n",
    "xs, h = np.linspace(0, 5, N+1, endpoint=True, retstep=True)\n",
    "ys = 6*np.sqrt(1 - xs*xs/25)\n",
    "#print(ys)\n",
    "#print(xs)\n",
    "\n",
    "Isimp_e = (h/3.)*(ys[0] + ys[-1] + 4*np.sum(ys[1:-1:2]) + 2*np.sum(ys[2:-1:2]))\n",
    "#print(\"Simp=%.5f\" %(Isimp))\n",
    "Isimp1_e = spi.simps(ys, xs)\n",
    "#import math\n",
    "\n",
    "print(\"Simpson ori=%f\" %(Isimp_e - Isimp_c))\n",
    "print(\"Simpson scipy=%f\" %(Isimp1_e - Isimp1_c))\n",
    "\n",
    "\n",
    "\n",
    "\n",
    "\n",
    "import math\n",
    "\n",
    "actual = (math.pi*6*5 - math.pi*4*4)*0.25\n",
    "\n",
    "print(\"Actual=%f\" %(actual))\n"
   ]
  },
  {
   "cell_type": "markdown",
   "metadata": {},
   "source": [
    "### Q10 Clustering\n",
    "For the overall betterment of institute performance at the national level, the Football Club of IISER Kolkata has decided to apply data science to the player performance statistics. The first application is to segregate the strikers based on their goal-scoring performance and expose them to customized training. To be more specific, the strikers with similar goal-scoring performance in the similar number of matches, should be trained together.\n",
    "\n",
    "To this end, consider a pool of n (>=10) strikers with (num_of_matches, number_of_goals_scores) for each player and apply k-means clustering algorithm (implemented in sklearn) to meaningfully cluster them. Use the elbow method to determine the best choice for k and finally plot the clusters with the chosen value of k. You should plot the data before and after clustering as well as the elbow plot.\n"
   ]
  },
  {
   "cell_type": "code",
   "execution_count": 48,
   "metadata": {},
   "outputs": [
    {
     "data": {
      "image/png": "[encoded data removed]",
      "text/plain": [
       "<Figure size 640x480 with 1 Axes>"
      ]
     },
     "metadata": {},
     "output_type": "display_data"
    },
    {
     "data": {
      "image/png": "[encoded data removed]",
      "text/plain": [
       "<Figure size 640x480 with 1 Axes>"
      ]
     },
     "metadata": {},
     "output_type": "display_data"
    },
    {
     "data": {
      "image/png": "[encoded data removed]",
      "text/plain": [
       "<Figure size 640x480 with 1 Axes>"
      ]
     },
     "metadata": {},
     "output_type": "display_data"
    }
   ],
   "source": [
    "import matplotlib.pyplot as plt\n",
    "\n",
    "x = [4, 5, 10, 4, 3, 11, 14 , 6, 10, 12]\n",
    "y = [10, 2, 14, 4, 9, 5, 4, 10, 10, 2]\n",
    "\n",
    "plt.scatter(x, y)\n",
    "plt.show()\n",
    "\n",
    "from sklearn.cluster import KMeans\n",
    "\n",
    "data = list(zip(x, y))\n",
    "inertias = []\n",
    "\n",
    "for i in range(1,11):\n",
    "    kmeans = KMeans(n_clusters=i)\n",
    "    kmeans.fit(data)\n",
    "    inertias.append(kmeans.inertia_)\n",
    "\n",
    "plt.plot(range(1,11), inertias, marker='o')\n",
    "plt.title('Elbow method')\n",
    "plt.xlabel('Number of clusters')\n",
    "plt.ylabel('Inertia')\n",
    "plt.show()\n",
    "\n",
    "kmeans = KMeans(n_clusters=4)\n",
    "kmeans.fit(data)\n",
    "\n",
    "plt.scatter(x, y, c=kmeans.labels_)\n",
    "plt.show()\n"
   ]
  }
 ],
 "metadata": {
  "kernelspec": {
   "display_name": "Python 3 (ipykernel)",
   "language": "python",
   "name": "python3"
  },
  "language_info": {
   "codemirror_mode": {
    "name": "ipython",
    "version": 3
   },
   "file_extension": ".py",
   "mimetype": "text/x-python",
   "name": "python",
   "nbconvert_exporter": "python",
   "pygments_lexer": "ipython3",
   "version": "3.12.2"
  }
 },
 "nbformat": 4,
 "nbformat_minor": 4
}
