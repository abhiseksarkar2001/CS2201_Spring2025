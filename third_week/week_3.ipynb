{
 "cells": [
  {
   "cell_type": "markdown",
   "metadata": {},
   "source": [
    "# CS2201\n",
    "## Week 2\n",
    "# Set 2\n",
    "### Solution by Abhisek Sarkar\n",
    "#### as20ms091@iiserkol.ac.in"
   ]
  },
  {
   "cell_type": "markdown",
   "metadata": {},
   "source": [
    "Q1. Using Tabulation method find a better approximate interval in the interval [0, 1] and then on this better interval use Bisection to find the root of the equation $sin(x) + x^2 -1 = 0$ . You may use the $sin()$ function in the math module."
   ]
  },
  {
   "cell_type": "code",
   "execution_count": 1,
   "metadata": {},
   "outputs": [
    {
     "name": "stdout",
     "output_type": "stream",
     "text": [
      "Better interval found using tabulation: (0.6, 0.7)\n",
      "Root found using bisection: 0.636733\n"
     ]
    }
   ],
   "source": [
    "import math\n",
    "\n",
    "def f(x):\n",
    "    return math.sin(x) + x**2 - 1\n",
    "\n",
    "def tabulation_method(start, end, step):\n",
    "    \"\"\"\n",
    "    Tabulation method to find a smaller interval where the root exists.\n",
    "    Returns a tuple with the narrowed interval.\n",
    "    \"\"\"\n",
    "    x = start\n",
    "    while x < end:\n",
    "        if f(x) * f(x + step) < 0:\n",
    "            return x, x + step\n",
    "        x += step\n",
    "    raise ValueError(\"No root found in the given interval using tabulation.\")\n",
    "\n",
    "def bisection_method(a, b, tolerance):\n",
    "    \"\"\"\n",
    "    Bisection method to find the root in the given interval [a, b].\n",
    "    Returns the approximate root.\n",
    "    \"\"\"\n",
    "    while (b - a) / 2 > tolerance:\n",
    "        c = (a + b) / 2\n",
    "        if f(c) == 0:  # Exact root found\n",
    "            return c\n",
    "        elif f(a) * f(c) < 0:\n",
    "            b = c\n",
    "        else:\n",
    "            a = c\n",
    "    return (a + b) / 2\n",
    "# Main Execution\n",
    "start_interval = 0\n",
    "end_interval = 1\n",
    "step_size = 0.1  # Step size for tabulation\n",
    "tolerance = 1e-6  # Tolerance for bisection\n",
    "\n",
    "# Step 1: Use Tabulation Method\n",
    "try:\n",
    "    better_interval = tabulation_method(start_interval, end_interval, step_size)\n",
    "    print(f\"Better interval found using tabulation: {better_interval}\")\n",
    "\n",
    "    # Step 2: Use Bisection Method\n",
    "    root = bisection_method(better_interval[0], better_interval[1], tolerance)\n",
    "    print(f\"Root found using bisection: {root:.6f}\")\n",
    "except ValueError as e:\n",
    "    print(e)\n"
   ]
  },
  {
   "cell_type": "markdown",
   "metadata": {},
   "source": [
    "Q2. Using Newton-Raphson method find as many roots as you can of the equation $f(x) = x^3 + x^2 - x = 0$ in the interval [0, 1]. Note that the first order derivative of $f(x)$ is $3x^2 + 2x - 1$. You may plot f using a web application like Desmos to first identify the roots visually and choose appropriate initial approximations for the Newton-Raphson method."
   ]
  },
  {
   "cell_type": "code",
   "execution_count": 2,
   "metadata": {},
   "outputs": [
    {
     "name": "stdout",
     "output_type": "stream",
     "text": [
      "Roots found: [0.0, 0.618034]\n"
     ]
    }
   ],
   "source": [
    "import math\n",
    "\n",
    "def f(x):\n",
    "    return x**3 + x**2 - x\n",
    "\n",
    "def df(x):\n",
    "    return 3*x**2 + 2*x - 1\n",
    "\n",
    "def newton_raphson(x0, tolerance=1e-6, max_iterations=1000):\n",
    "    \"\"\"\n",
    "    Newton-Raphson method to find a root of f(x).\n",
    "    :param x0: Initial approximation\n",
    "    :param tolerance: Tolerance for stopping condition\n",
    "    :param max_iterations: Maximum number of iterations\n",
    "    :return: Root if found, None otherwise\n",
    "    \"\"\"\n",
    "    for i in range(max_iterations):\n",
    "        f_x0 = f(x0)\n",
    "        df_x0 = df(x0)\n",
    "\n",
    "        if df_x0 == 0:\n",
    "            raise ValueError(\"Derivative is zero. Newton-Raphson method fails.\")\n",
    "\n",
    "        x1 = x0 - f_x0 / df_x0\n",
    "\n",
    "        if abs(x1 - x0) < tolerance:\n",
    "            return x1\n",
    "\n",
    "        x0 = x1\n",
    "\n",
    "    raise ValueError(\"Newton-Raphson method did not converge.\")\n",
    "\n",
    "# Main execution\n",
    "initial_guesses = [0, 0.5, 1]  # Initial guesses based on visual inspection\n",
    "roots = []\n",
    "tolerance = 1e-6\n",
    "\n",
    "for guess in initial_guesses:\n",
    "    try:\n",
    "        root = newton_raphson(guess, tolerance)\n",
    "        root = round(root, 6)  # Round to avoid duplicates due to precision errors\n",
    "\n",
    "        if root not in roots:  # Avoid duplicate roots\n",
    "            roots.append(root)\n",
    "    except ValueError as e:\n",
    "        print(f\"Initial guess {guess} failed: {e}\")\n",
    "\n",
    "print(f\"Roots found: {roots}\")\n"
   ]
  },
  {
   "cell_type": "markdown",
   "metadata": {},
   "source": [
    "Above is the Python code for solving $f(x) = x^3 + x^2 - x = 0 $ using the Newton-Raphson method. To identify the roots visually, you can plot the function in Desmos or another tool.\n",
    "\n",
    "### Steps in the Code:\n",
    "\n",
    "1. **Function Definition**:\n",
    "   - $( f(x) = x^3 + x^2 - x )$\n",
    "   - $( f'(x) = 3x^2 + 2x - 1 )$\n",
    "\n",
    "2. **Newton-Raphson Method**:\n",
    "   - Iterates starting from an initial guess $ x_0 $.\n",
    "   - Updates the guess using $ x_{n+1} = x_n - \\frac{f(x_n)}{f'(x_n)} $.\n",
    "   - Stops when the difference between successive guesses is less than the `tolerance`.\n",
    "\n",
    "3. **Main Execution**:\n",
    "   - Takes a list of initial guesses based on visual inspection.\n",
    "   - Finds roots while avoiding duplicates due to numerical precision issues.\n",
    "\n",
    "4. **Output**:\n",
    "   - Lists all distinct roots found in the interval $[0, 1]$.\n",
    "\n",
    "This code can compute the roots numerically. The roots can be confirmed by plotting \\( f(x) \\) and observing its intersections with the x-axis."
   ]
  },
  {
   "cell_type": "markdown",
   "metadata": {},
   "source": [
    "Q3. Given a list L with repeating elements, remove the duplicates. You should not use any temporary list."
   ]
  },
  {
   "cell_type": "code",
   "execution_count": 1,
   "metadata": {},
   "outputs": [
    {
     "name": "stdout",
     "output_type": "stream",
     "text": [
      "List after removing duplicates: [1, 2, 3, 4, 5]\n"
     ]
    }
   ],
   "source": [
    "def remove_duplicates(L):\n",
    "    \"\"\"\n",
    "    Removes duplicates from the list L in place without using a temporary list.\n",
    "    :param L: List with potentially duplicate elements\n",
    "    \"\"\"\n",
    "    i = 0\n",
    "    while i < len(L):\n",
    "        j = i + 1\n",
    "        while j < len(L):\n",
    "            if L[j] == L[i]:\n",
    "                del L[j]\n",
    "            else:\n",
    "                j += 1\n",
    "        i += 1\n",
    "\n",
    "# Example usage\n",
    "L = [1, 2, 3, 2, 1, 4, 5, 3]\n",
    "remove_duplicates(L)\n",
    "print(\"List after removing duplicates:\", L)\n"
   ]
  },
  {
   "cell_type": "markdown",
   "metadata": {},
   "source": [
    "Q4. Given a list L = [1, 2, 3, 4, 5], use list comprehension to generate another list L1 containing the even numbers in L"
   ]
  },
  {
   "cell_type": "code",
   "execution_count": 1,
   "metadata": {},
   "outputs": [
    {
     "name": "stdout",
     "output_type": "stream",
     "text": [
      "List of even numbers: [2, 4]\n"
     ]
    }
   ],
   "source": [
    "L = [1, 2, 3, 4, 5]\n",
    "L1 = [x for x in L if x % 2 == 0]\n",
    "print(\"List of even numbers:\", L1)"
   ]
  },
  {
   "cell_type": "markdown",
   "metadata": {},
   "source": [
    "Q5. Given two lists L1 = [1, 2, 3, 4, 5] and L2 = [5, 4, 10, 12], use list comprehension to generate another list L3 containing the sum of the odd elements in L1 and L2."
   ]
  },
  {
   "cell_type": "code",
   "execution_count": 2,
   "metadata": {},
   "outputs": [
    {
     "name": "stdout",
     "output_type": "stream",
     "text": [
      "List containing the sums of odd elements in L1 and L2: [6, 8, 10]\n"
     ]
    }
   ],
   "source": [
    "L1 = [1, 2, 3, 4, 5]\n",
    "L2 = [5, 4, 10, 12]\n",
    "\n",
    "L3 = [x + y for x in L1 if x % 2 != 0 for y in L2 if y % 2 != 0]\n",
    "print(\"List containing the sums of odd elements in L1 and L2:\", L3)"
   ]
  },
  {
   "cell_type": "markdown",
   "metadata": {},
   "source": [
    "### Explanation:\n",
    "- The comprehension iterates over all elements in \\( L1 \\) and \\( L2 \\).\n",
    "- It filters the odd elements from both lists using the condition `x % 2 != 0` and `y % 2 != 0`.\n",
    "- For each pair of odd elements, it calculates their sum and adds it to \\( L3 \\)."
   ]
  },
  {
   "cell_type": "markdown",
   "metadata": {},
   "source": [
    "Q6. Use a while loop to take a number as input from the user and continue the loop until the user inputs an even number."
   ]
  },
  {
   "cell_type": "code",
   "execution_count": 5,
   "metadata": {},
   "outputs": [
    {
     "name": "stdout",
     "output_type": "stream",
     "text": [
      "You entered an even number: 2\n",
      "You entered an even number: 4\n",
      "You entered an even number: 66\n",
      "You entered an even number: 22\n",
      "You entered an even number: 68\n",
      "That is an odd number, try again. 55\n"
     ]
    }
   ],
   "source": [
    "while True:\n",
    "    number = int(input(\"Enter a number: \"))\n",
    "    if number % 2 == 0:\n",
    "        print(\"You entered an even number:\", number)\n",
    "        #break\n",
    "    else:\n",
    "        print(\"That is an odd number, try again.\", number)\n",
    "        break"
   ]
  },
  {
   "cell_type": "markdown",
   "metadata": {},
   "source": [
    "Q7. Use while loop to reverse an integer stored in a variable n and store the reversed number in a variable rev. You can’t use a list, string operations or any Python functions for reversal."
   ]
  },
  {
   "cell_type": "code",
   "execution_count": 6,
   "metadata": {},
   "outputs": [
    {
     "name": "stdout",
     "output_type": "stream",
     "text": [
      "Reversed number: 54321\n"
     ]
    }
   ],
   "source": [
    "n = 12345  # Example integer\n",
    "rev = 0    # Variable to store the reversed number\n",
    "\n",
    "while n > 0:\n",
    "    rev = rev * 10 + n % 10  # Add the last digit of n to rev\n",
    "    n = n // 10               # Remove the last digit from n\n",
    "\n",
    "print(\"Reversed number:\", rev)\n"
   ]
  },
  {
   "cell_type": "markdown",
   "metadata": {},
   "source": [
    "Q8. Take a number as input (use input()) and using the dictionary d = {1 : 'ONE', 2 : 'TWO', 3 : 'THREE', 4 : 'FOUR', 5 : 'FIVE', 6 : 'SIX', 7 : 'SEVEN', 8 : 'EIGHT', 9 : 'NINE'} only print the number as words. If the input is 1234, the output should be ONE TWO THREE FOUR. Note that, you have to use only this dictionary (and no other source) to convert each digit of the input number to the corresponding word equivalent.\n"
   ]
  },
  {
   "cell_type": "code",
   "execution_count": 13,
   "metadata": {},
   "outputs": [
    {
     "name": "stdout",
     "output_type": "stream",
     "text": [
      "You have input 5678\n",
      "FIVE SIX SEVEN EIGHT "
     ]
    }
   ],
   "source": [
    "d = {1: 'ONE', 2: 'TWO', 3: 'THREE', 4: 'FOUR', 5: 'FIVE', \n",
    "     6: 'SIX', 7: 'SEVEN', 8: 'EIGHT', 9: 'NINE'}\n",
    "\n",
    "# Take input number\n",
    "number = input(\"Enter a number: \")\n",
    "print(f\"You have input {number}\")\n",
    "\n",
    "# Loop through each digit in the input number\n",
    "for digit in number:\n",
    "    if digit == '0':  # Handle the case for 0 separately\n",
    "        print(\"ZERO\", end=\" \")\n",
    "    else:\n",
    "        # Convert each digit to its integer form and use the dictionary to print the corresponding word\n",
    "        print(d[int(digit)], end=\" \")\n",
    "\n"
   ]
  },
  {
   "cell_type": "markdown",
   "metadata": {},
   "source": [
    "Q9. Write a Python program to determine the direction (‘increasing’ or ‘decreasing’ or ‘not monotonic’) of monotonic sequence (consistently increasing or consistently decreasing) numbers stored as a list. E.g. [1, 2, 3, 4, 5, 6] contains a monotonically increasing sequence, while [25, 24, 23, 22] contains a monotonically decreasing sequence; [25, 24, 10, 23, 22] is not monotonic."
   ]
  },
  {
   "cell_type": "code",
   "execution_count": 15,
   "metadata": {},
   "outputs": [
    {
     "name": "stdout",
     "output_type": "stream",
     "text": [
      "The sequence is increasing.\n"
     ]
    }
   ],
   "source": [
    "def check_monotonic(sequence):\n",
    "    increasing = decreasing = True\n",
    "    \n",
    "    # Iterate through the list to check for increasing or decreasing sequence\n",
    "    for i in range(1, len(sequence)):\n",
    "        if sequence[i] < sequence[i - 1]:\n",
    "            increasing = False  # It is not increasing\n",
    "        if sequence[i] > sequence[i - 1]:\n",
    "            decreasing = False  # It is not decreasing\n",
    "    \n",
    "    # Determine the type of sequence based on flags\n",
    "    if increasing:\n",
    "        return \"increasing\"\n",
    "    elif decreasing:\n",
    "        return \"decreasing\"\n",
    "    else:\n",
    "        return \"not monotonic\"\n",
    "\n",
    "# Example usage\n",
    "numbers = [1,2,3,4,5,6]\n",
    "result = check_monotonic(numbers)\n",
    "print(f\"The sequence is {result}.\")\n"
   ]
  },
  {
   "cell_type": "markdown",
   "metadata": {},
   "source": [
    "Q10. Design an automatic Quizzing System (choose an apt name like “Proshnobaan”) that asks science questions. Use a Python dictionary (KB) to store the QAs with correct and wrong options and scores for the correct option. Each element in KB is a key:value pair, key being the question (e.g. \"What is the smallest known organism?\") and the value is a list of tuples containing both correct and wrong options. Each element of the list is a tuple in the format (option, correct/wrong, score), e.g. (\"Mycoplasma gallicepticum\", 1, 2), where \"Mycoplasma gallicepticum\" is an option for the question, ‘1’ indicates that this is the CORRECT option for the question and ‘2’ is the score that the participant will get if s/he chooses this option. On the other hand, the tuple for a wrong option is (\"Valonia ventricosa\", 0, 0).  An example key:value pair for one Question with the options is \"What is the smallest known organism?\": [(\"Mycoplasma gallicepticum\", 1, 2), (\"Valonia ventricosa\", 0, 0)]\n",
    "\n",
    "For each question, the system should ask the question, show the options and ask for the answer. After the participant enters the answer, the system will print an appropriate message like “Correct answer” or “Wrong answer”.\n",
    "\t\n",
    "The system will ask a mix of easy-to-tough questions (the score will be higher for the tougher questions) one after the other and add up the scores obtained by the participant.  If the total score at the end of these questions is less than or equal to a threshold, the system will announce a consolation prize. If this total score is more than the threshold, the system will ask a JACKPOT question (an unusual question like \"What is the smallest resolvable unit of distance by a given computer mouse pointing device called?\") WITHOUT any option. If the participant answers the jackpot question correctly, the system should print “Congratulations” with the announcement of a mega prize; otherwise, it should print an appropriate message."
   ]
  },
  {
   "cell_type": "code",
   "execution_count": 1,
   "metadata": {},
   "outputs": [
    {
     "name": "stdout",
     "output_type": "stream",
     "text": [
      "Welcome to Proshnobaan - The Ultimate Science Quiz!\n",
      "Answer the questions and earn points.\n",
      "\n",
      "Question: What is the chemical symbol for water?\n",
      "1. O2\n",
      "2. H2\n",
      "3. HO\n",
      "4. H2O\n"
     ]
    },
    {
     "name": "stdin",
     "output_type": "stream",
     "text": [
      "Enter the option number:  4\n"
     ]
    },
    {
     "name": "stdout",
     "output_type": "stream",
     "text": [
      "Correct answer!\n",
      "\n",
      "Question: What is the powerhouse of the cell?\n",
      "1. Chloroplast\n",
      "2. Ribosome\n",
      "3. Mitochondria\n",
      "4. Nucleus\n"
     ]
    },
    {
     "name": "stdin",
     "output_type": "stream",
     "text": [
      "Enter the option number:  3\n"
     ]
    },
    {
     "name": "stdout",
     "output_type": "stream",
     "text": [
      "Correct answer!\n",
      "\n",
      "Question: What planet is known as the Red Planet?\n",
      "1. Earth\n",
      "2. Mars\n",
      "3. Jupiter\n",
      "4. Saturn\n"
     ]
    },
    {
     "name": "stdin",
     "output_type": "stream",
     "text": [
      "Enter the option number:  2\n"
     ]
    },
    {
     "name": "stdout",
     "output_type": "stream",
     "text": [
      "Correct answer!\n",
      "\n",
      "Question: What is the speed of light in vacuum?\n",
      "1. 300,000 km/s\n",
      "2. 100,000 km/s\n",
      "3. 3,000 km/s\n",
      "4. 150,000 km/s\n"
     ]
    },
    {
     "name": "stdin",
     "output_type": "stream",
     "text": [
      "Enter the option number:  1\n"
     ]
    },
    {
     "name": "stdout",
     "output_type": "stream",
     "text": [
      "Correct answer!\n",
      "\n",
      "Question: What is the smallest known organism?\n",
      "1. Valonia ventricosa\n",
      "2. Mycoplasma gallicepticum\n",
      "3. Pandoravirus\n",
      "4. Escherichia coli\n"
     ]
    },
    {
     "name": "stdin",
     "output_type": "stream",
     "text": [
      "Enter the option number:  2\n"
     ]
    },
    {
     "name": "stdout",
     "output_type": "stream",
     "text": [
      "Correct answer!\n",
      "\n",
      "Your total score is: 13\n",
      "You qualify for the JACKPOT question!\n",
      "\n",
      "JACKPOT Question: What is the smallest resolvable unit of distance by a given computer mouse pointing device called?\n"
     ]
    },
    {
     "name": "stdin",
     "output_type": "stream",
     "text": [
      "Your answer:  Muggeseggele\n"
     ]
    },
    {
     "name": "stdout",
     "output_type": "stream",
     "text": [
      "Sorry, that's incorrect. Better luck next time!\n"
     ]
    }
   ],
   "source": [
    "import random\n",
    "\n",
    "def proshnobaan_quiz():\n",
    "    # Knowledge Base (KB)\n",
    "    kb = {\n",
    "        \"What is the smallest known organism?\": [\n",
    "            (\"Mycoplasma gallicepticum\", 1, 2),\n",
    "            (\"Valonia ventricosa\", 0, 0),\n",
    "            (\"Escherichia coli\", 0, 0),\n",
    "            (\"Pandoravirus\", 0, 0)\n",
    "        ],\n",
    "        \"What is the speed of light in vacuum?\": [\n",
    "            (\"300,000 km/s\", 1, 5),\n",
    "            (\"150,000 km/s\", 0, 0),\n",
    "            (\"100,000 km/s\", 0, 0),\n",
    "            (\"3,000 km/s\", 0, 0)\n",
    "        ],\n",
    "        \"What is the chemical symbol for water?\": [\n",
    "            (\"H2O\", 1, 1),\n",
    "            (\"H2\", 0, 0),\n",
    "            (\"O2\", 0, 0),\n",
    "            (\"HO\", 0, 0)\n",
    "        ],\n",
    "        \"What planet is known as the Red Planet?\": [\n",
    "            (\"Mars\", 1, 2),\n",
    "            (\"Earth\", 0, 0),\n",
    "            (\"Jupiter\", 0, 0),\n",
    "            (\"Saturn\", 0, 0)\n",
    "        ],\n",
    "        \"What is the powerhouse of the cell?\": [\n",
    "            (\"Mitochondria\", 1, 3),\n",
    "            (\"Nucleus\", 0, 0),\n",
    "            (\"Ribosome\", 0, 0),\n",
    "            (\"Chloroplast\", 0, 0)\n",
    "        ]\n",
    "    }\n",
    "\n",
    "    # Jackpot Question\n",
    "    jackpot_question = \"What is the smallest resolvable unit of distance by a given computer mouse pointing device called?\"\n",
    "    jackpot_answer = \"mickey\"\n",
    "\n",
    "    # Threshold score for jackpot\n",
    "    threshold = 7\n",
    "\n",
    "    # Initialize total score\n",
    "    total_score = 0\n",
    "\n",
    "    print(\"Welcome to Proshnobaan - The Ultimate Science Quiz!\")\n",
    "    print(\"Answer the questions and earn points.\")\n",
    "\n",
    "    # Shuffle and ask questions\n",
    "    questions = list(kb.keys())\n",
    "    random.shuffle(questions)\n",
    "\n",
    "    for question in questions:\n",
    "        print(f\"\\nQuestion: {question}\")\n",
    "        options = kb[question]\n",
    "        random.shuffle(options)\n",
    "        \n",
    "        for i, (option, _, _) in enumerate(options, start=1):\n",
    "            print(f\"{i}. {option}\")\n",
    "\n",
    "        # Input answer from user\n",
    "        try:\n",
    "            answer = int(input(\"Enter the option number: \")) - 1\n",
    "            if 0 <= answer < len(options):\n",
    "                selected_option = options[answer]\n",
    "                if selected_option[1] == 1:\n",
    "                    print(\"Correct answer!\")\n",
    "                    total_score += selected_option[2]\n",
    "                else:\n",
    "                    print(\"Wrong answer!\")\n",
    "            else:\n",
    "                print(\"Invalid option. Moving to the next question.\")\n",
    "        except ValueError:\n",
    "            print(\"Invalid input. Moving to the next question.\")\n",
    "\n",
    "    print(f\"\\nYour total score is: {total_score}\")\n",
    "\n",
    "    # Determine prize and jackpot eligibility\n",
    "    if total_score <= threshold:\n",
    "        print(\"Better luck next time! You win a consolation prize!\")\n",
    "    else:\n",
    "        print(\"You qualify for the JACKPOT question!\")\n",
    "        print(f\"\\nJACKPOT Question: {jackpot_question}\")\n",
    "        jackpot_answer_input = input(\"Your answer: \").strip().lower()\n",
    "\n",
    "        if jackpot_answer_input == jackpot_answer:\n",
    "            print(\"Congratulations! You've won the mega prize!\")\n",
    "        else:\n",
    "            print(\"Sorry, that's incorrect. Better luck next time!\")\n",
    "\n",
    "# Run the quiz\n",
    "proshnobaan_quiz()\n"
   ]
  }
 ],
 "metadata": {
  "kernelspec": {
   "display_name": "Python 3 (ipykernel)",
   "language": "python",
   "name": "python3"
  },
  "language_info": {
   "codemirror_mode": {
    "name": "ipython",
    "version": 3
   },
   "file_extension": ".py",
   "mimetype": "text/x-python",
   "name": "python",
   "nbconvert_exporter": "python",
   "pygments_lexer": "ipython3",
   "version": "3.12.2"
  }
 },
 "nbformat": 4,
 "nbformat_minor": 4
}
