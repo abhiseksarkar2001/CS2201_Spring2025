{
 "cells": [
  {
   "cell_type": "markdown",
   "metadata": {},
   "source": [
    "# Week 6\n",
    "## TA Solution\n",
    "### Abhisek Sarkar\n",
    "#### as20ms091@iiserkol.ac.in"
   ]
  },
  {
   "cell_type": "markdown",
   "metadata": {},
   "source": [
    "### Q1.\n",
    "Input (using input()) a list of alternating names and ages e.g. [‘kripa’, ‘37’, ‘arun’, ‘45’, ‘dipa’, ‘40’] and create a dictionary such the (i, i+1)th elements (i = 0, 2, …) form the key value pairs. For the mentioned example, the dictionary will be  {‘kripa’: ‘37’, ‘arun’: ‘45’, ‘dipa’: ‘40’}"
   ]
  },
  {
   "cell_type": "code",
   "execution_count": 2,
   "metadata": {},
   "outputs": [
    {
     "name": "stdout",
     "output_type": "stream",
     "text": [
      "{'kripa': '37', 'arun': '45', 'dipa': '40'}\n"
     ]
    }
   ],
   "source": [
    "# Take input from the user\n",
    "input_list = input(\"Enter a list of names and ages (comma-separated): \").split(',')\n",
    "\n",
    "# Strip any extra whitespace\n",
    "input_list = [item.strip() for item in input_list]\n",
    "\n",
    "# Convert the list into a dictionary using pairs of elements\n",
    "name_age_dict = {input_list[i]: input_list[i+1] for i in range(0, len(input_list), 2)}\n",
    "\n",
    "# Print the dictionary\n",
    "print(name_age_dict)\n"
   ]
  },
  {
   "cell_type": "markdown",
   "metadata": {},
   "source": [
    "### Q2.\n",
    "For the same input as Q1, create a list of tuples of the (i, i+1)th elements (i = 0, 2, …) of the input list. For the mentioned example, the output list will be [('kripa', ‘37’), ('arun', ‘32’), ('dipa', ‘40)]"
   ]
  },
  {
   "cell_type": "code",
   "execution_count": 3,
   "metadata": {},
   "outputs": [
    {
     "name": "stdout",
     "output_type": "stream",
     "text": [
      "[('kripa', '37'), ('arun', '45'), ('dipa', '40')]\n"
     ]
    }
   ],
   "source": [
    "# Take input from the user\n",
    "#input_list = input(\"Enter a list of names and ages (comma-separated): \").split(',')\n",
    "\n",
    "# Strip any extra whitespace\n",
    "input_list = [item.strip() for item in input_list]\n",
    "\n",
    "# Convert the list into a list of tuples using pairs of elements\n",
    "tuple_list = [(input_list[i], input_list[i+1]) for i in range(0, len(input_list), 2)]\n",
    "\n",
    "# Print the list of tuples\n",
    "print(tuple_list)\n"
   ]
  },
  {
   "cell_type": "markdown",
   "metadata": {},
   "source": [
    "### Q3\n",
    "Use numpy linalg.solve to find the point of intersection of the three planes x + 2y + 3z = 2, 4x + 8y +66z = 3 and 7x + 81y + 9z = 4. Perform the said operation if the coefficient determinant is non-singular. This can be checked by the function np.linalg.det(). You may consider a determinant to be singular if np.linalg.det() is close to zero (say abs() value less than 0.00001)."
   ]
  },
  {
   "cell_type": "code",
   "execution_count": 4,
   "metadata": {},
   "outputs": [
    {
     "name": "stdout",
     "output_type": "stream",
     "text": [
      "Point of intersection: [ 2.60945274 -0.16583748 -0.09259259]\n"
     ]
    }
   ],
   "source": [
    "import numpy as np\n",
    "\n",
    "# Coefficient matrix\n",
    "A = np.array([\n",
    "    [1, 2, 3],\n",
    "    [4, 8, 66],\n",
    "    [7, 81, 9]\n",
    "])\n",
    "\n",
    "# Right-hand side constants\n",
    "b = np.array([2, 3, 4])\n",
    "\n",
    "# Check if the determinant is non-singular\n",
    "det_A = np.linalg.det(A)\n",
    "\n",
    "if abs(det_A) < 0.00001:\n",
    "    print(\"The coefficient matrix is singular or nearly singular. No unique solution exists.\")\n",
    "else:\n",
    "    # Solve the system of equations\n",
    "    solution = np.linalg.solve(A, b)\n",
    "    print(\"Point of intersection:\", solution)\n"
   ]
  },
  {
   "cell_type": "markdown",
   "metadata": {},
   "source": [
    "### Q4\n",
    "Write a function d2b() that takes a decimal number as argument and returns its binary equivalent. Write a numpy ufunc function numpy_DecimalToBinary that uses d2b() and applies the same operation elementwise on a numpy array A. E.g. if A is 1, 2, 3, 4, 5, numpy_DecimalToBinary(A) will produce 1 10 11 100 101. Note that all the elements of numpy_DecimalToBinary(A) should be of ‘int’ type and not ‘str’ type."
   ]
  },
  {
   "cell_type": "code",
   "execution_count": 5,
   "metadata": {},
   "outputs": [
    {
     "name": "stdout",
     "output_type": "stream",
     "text": [
      "[  1  10  11 100 101]\n"
     ]
    }
   ],
   "source": [
    "import numpy as np\n",
    "\n",
    "# Function to convert a decimal number to binary (returns an integer)\n",
    "def d2b(n):\n",
    "    return int(bin(n)[2:])  # Convert to binary string and then to integer\n",
    "\n",
    "# Create a numpy universal function (ufunc)\n",
    "numpy_DecimalToBinary = np.vectorize(d2b)\n",
    "\n",
    "# Example usage\n",
    "A = np.array([1, 2, 3, 4, 5])\n",
    "binary_array = numpy_DecimalToBinary(A)\n",
    "print(binary_array)\n"
   ]
  },
  {
   "cell_type": "markdown",
   "metadata": {},
   "source": [
    "### Q5\n",
    "Consider a numpy 2-D array of the form [[50, 60, 70], [67, 88, 90], [60, 78, 97]] where the ith 1-D array contains the marks of the ith student in three subjects (in this order. E.g. 50, 60, 70 are the subject1, subject2, subject3 marks respectively of student-0. Use numpy sum function only to i) create a 1-D numpy array with the sum of the marks of individual students ii) create a 1-D numpy array with the sum of subject-wise marks. Also, do these operations to produce 2-D numpy arrays with the same content.\n"
   ]
  },
  {
   "cell_type": "code",
   "execution_count": 6,
   "metadata": {},
   "outputs": [
    {
     "name": "stdout",
     "output_type": "stream",
     "text": [
      "1D Array - Student-wise Sum: [180 245 235]\n",
      "2D Array - Student-wise Sum:\n",
      " [[180]\n",
      " [245]\n",
      " [235]]\n",
      "1D Array - Subject-wise Sum: [177 226 257]\n",
      "2D Array - Subject-wise Sum:\n",
      " [[177 226 257]]\n"
     ]
    }
   ],
   "source": [
    "import numpy as np\n",
    "\n",
    "# Define the 2D NumPy array\n",
    "marks = np.array([\n",
    "    [50, 60, 70],\n",
    "    [67, 88, 90],\n",
    "    [60, 78, 97]\n",
    "])\n",
    "\n",
    "# i) Sum of marks for each student (row-wise sum)\n",
    "student_sums_1D = np.sum(marks, axis=1)  # 1D array\n",
    "student_sums_2D = student_sums_1D.reshape(-1, 1)  # Convert to 2D column vector\n",
    "\n",
    "# ii) Sum of marks for each subject (column-wise sum)\n",
    "subject_sums_1D = np.sum(marks, axis=0)  # 1D array\n",
    "subject_sums_2D = subject_sums_1D.reshape(1, -1)  # Convert to 2D row vector\n",
    "\n",
    "# Print results\n",
    "print(\"1D Array - Student-wise Sum:\", student_sums_1D)\n",
    "print(\"2D Array - Student-wise Sum:\\n\", student_sums_2D)\n",
    "print(\"1D Array - Subject-wise Sum:\", subject_sums_1D)\n",
    "print(\"2D Array - Subject-wise Sum:\\n\", subject_sums_2D)\n"
   ]
  },
  {
   "cell_type": "markdown",
   "metadata": {},
   "source": [
    "### Q6\n",
    "Given two 1-D numpy arrays A and B, remove the elements in A which are also in B and store the resulting array in C. Use numpy set operations."
   ]
  },
  {
   "cell_type": "code",
   "execution_count": 7,
   "metadata": {},
   "outputs": [
    {
     "name": "stdout",
     "output_type": "stream",
     "text": [
      "Resulting array C: [1 3 5]\n"
     ]
    }
   ],
   "source": [
    "import numpy as np\n",
    "\n",
    "# Example input arrays\n",
    "A = np.array([1, 2, 3, 4, 5, 6])\n",
    "B = np.array([2, 4, 6])\n",
    "\n",
    "# Remove elements in A that are also in B\n",
    "C = np.setdiff1d(A, B)\n",
    "\n",
    "# Print the result\n",
    "print(\"Resulting array C:\", C)\n"
   ]
  },
  {
   "cell_type": "markdown",
   "metadata": {},
   "source": [
    "### Q7\n",
    "Given two numpy 2-D arrays arr1 = np.array([[1, 2], [4, 5]]), arr2 = np.array([[3, 3], [1,1]]) explore the difference between np.multiply(arr1, arr2) and np.matmul(arr1, arr2).\n"
   ]
  },
  {
   "cell_type": "code",
   "execution_count": 8,
   "metadata": {},
   "outputs": [
    {
     "name": "stdout",
     "output_type": "stream",
     "text": [
      "Element-wise multiplication (np.multiply):\n",
      " [[3 6]\n",
      " [4 5]]\n",
      "\n",
      "Matrix multiplication (np.matmul):\n",
      " [[ 5  5]\n",
      " [17 17]]\n"
     ]
    }
   ],
   "source": [
    "import numpy as np\n",
    "\n",
    "# Define the 2D arrays\n",
    "arr1 = np.array([[1, 2], [4, 5]])\n",
    "arr2 = np.array([[3, 3], [1, 1]])\n",
    "\n",
    "# Element-wise multiplication\n",
    "elementwise_product = np.multiply(arr1, arr2)\n",
    "\n",
    "# Matrix multiplication (dot product)\n",
    "matrix_product = np.matmul(arr1, arr2)\n",
    "\n",
    "# Print results\n",
    "print(\"Element-wise multiplication (np.multiply):\\n\", elementwise_product)\n",
    "print(\"\\nMatrix multiplication (np.matmul):\\n\", matrix_product)\n"
   ]
  },
  {
   "cell_type": "markdown",
   "metadata": {},
   "source": [
    "### Q8\n",
    "Consider a python list of numbers L and a function f(x) = x3 + 1. Apply f(x) on every element of L and store the result in another list Lout. Now, create a numpy array A from L and apply f(x) element-wise on A and store the result in another numpy array Aout.\n"
   ]
  },
  {
   "cell_type": "code",
   "execution_count": 9,
   "metadata": {},
   "outputs": [
    {
     "name": "stdout",
     "output_type": "stream",
     "text": [
      "List output: [2, 9, 28, 65, 126]\n",
      "NumPy output: [  2   9  28  65 126]\n"
     ]
    }
   ],
   "source": [
    "import numpy as np\n",
    "\n",
    "# Define the function f(x) = x^3 + 1\n",
    "def f(x):\n",
    "    return x**3 + 1\n",
    "\n",
    "# Python list approach\n",
    "L = [1, 2, 3, 4, 5]  # Example list\n",
    "Lout = [f(x) for x in L]  # Apply f(x) to each element\n",
    "\n",
    "# NumPy array approach\n",
    "A = np.array(L)  # Convert list to NumPy array\n",
    "Aout = f(A)  # Apply f(x) element-wise using NumPy\n",
    "\n",
    "# Print results\n",
    "print(\"List output:\", Lout)\n",
    "print(\"NumPy output:\", Aout)\n"
   ]
  },
  {
   "cell_type": "markdown",
   "metadata": {},
   "source": [
    "### Q9\n",
    "Given a numpy array X that can contain any integer (negative, positive or zero) and consider a function f(x) defined as follows: f returns 0 if x < 0, returns 1 if x is 0 and returns x%3 otherwise. Apply f(x) elementwise on X. [Hint: use frompyfunc]. Also apply vectorize, to solve the same problem [same as frompyfunc except that the number of arguments are not passed in vectorize].\n"
   ]
  },
  {
   "cell_type": "code",
   "execution_count": 10,
   "metadata": {},
   "outputs": [
    {
     "name": "stdout",
     "output_type": "stream",
     "text": [
      "Original array: [-5  0  3  7 -2  9 12 -1]\n",
      "Output using frompyfunc: [0 1 0 1 0 0 0 0]\n",
      "Output using vectorize: [0 1 0 1 0 0 0 0]\n"
     ]
    }
   ],
   "source": [
    "import numpy as np\n",
    "\n",
    "# Define the function f(x)\n",
    "def f(x):\n",
    "    if x < 0:\n",
    "        return 0\n",
    "    elif x == 0:\n",
    "        return 1\n",
    "    else:\n",
    "        return x % 3\n",
    "\n",
    "# Create a sample NumPy array\n",
    "X = np.array([-5, 0, 3, 7, -2, 9, 12, -1])\n",
    "\n",
    "# Apply using np.frompyfunc()\n",
    "f_frompyfunc = np.frompyfunc(f, 1, 1)  # 1 input, 1 output\n",
    "X_out_frompyfunc = f_frompyfunc(X)\n",
    "\n",
    "# Apply using np.vectorize()\n",
    "f_vectorized = np.vectorize(f)\n",
    "X_out_vectorized = f_vectorized(X)\n",
    "\n",
    "# Print results\n",
    "print(\"Original array:\", X)\n",
    "print(\"Output using frompyfunc:\", X_out_frompyfunc)\n",
    "print(\"Output using vectorize:\", X_out_vectorized)\n"
   ]
  },
  {
   "cell_type": "markdown",
   "metadata": {},
   "source": [
    "### Q10\n",
    "Use linspace in numpy to generate 10 equispaced points in the interval [20, 21] (a) endpoint 21 is included, (b) endpoint 21 is not included (c) return the interval length for case (a)"
   ]
  },
  {
   "cell_type": "code",
   "execution_count": 11,
   "metadata": {},
   "outputs": [
    {
     "name": "stdout",
     "output_type": "stream",
     "text": [
      "10 points (endpoint included): [20.         20.11111111 20.22222222 20.33333333 20.44444444 20.55555556\n",
      " 20.66666667 20.77777778 20.88888889 21.        ]\n",
      "10 points (endpoint NOT included): [20.  20.1 20.2 20.3 20.4 20.5 20.6 20.7 20.8 20.9]\n",
      "Interval length for case (a): 0.11111111111111072\n"
     ]
    }
   ],
   "source": [
    "import numpy as np\n",
    "\n",
    "# (a) Including the endpoint 21\n",
    "points_inclusive = np.linspace(20, 21, num=10, endpoint=True)\n",
    "\n",
    "# (b) Excluding the endpoint 21\n",
    "points_exclusive = np.linspace(20, 21, num=10, endpoint=False)\n",
    "\n",
    "# (c) Interval length for case (a)\n",
    "interval_length = points_inclusive[1] - points_inclusive[0]\n",
    "\n",
    "# Print results\n",
    "print(\"10 points (endpoint included):\", points_inclusive)\n",
    "print(\"10 points (endpoint NOT included):\", points_exclusive)\n",
    "print(\"Interval length for case (a):\", interval_length)\n"
   ]
  }
 ],
 "metadata": {
  "kernelspec": {
   "display_name": "Python 3 (ipykernel)",
   "language": "python",
   "name": "python3"
  },
  "language_info": {
   "codemirror_mode": {
    "name": "ipython",
    "version": 3
   },
   "file_extension": ".py",
   "mimetype": "text/x-python",
   "name": "python",
   "nbconvert_exporter": "python",
   "pygments_lexer": "ipython3",
   "version": "3.12.2"
  }
 },
 "nbformat": 4,
 "nbformat_minor": 4
}
