{
 "cells": [
  {
   "cell_type": "markdown",
   "id": "619dcab7",
   "metadata": {},
   "source": [
    "# CS2201 Spring 2025\n",
    "## Problem Sets\n",
    "### TA Solution by Abhisek Sarkar\n",
    "#### as20ms091@iiserkol.ac.in"
   ]
  },
  {
   "cell_type": "markdown",
   "id": "ff2433fe",
   "metadata": {},
   "source": [
    "Q1) Lists\n",
    "\n",
    "(a) Create a list of integers from 0 to 9 and store the list in variable x\n",
    "\n",
    "\n",
    "(b) Create a list of integers from 3 to 12 and store the list in variable y\n",
    "\n",
    "\n",
    "(c) Using a single print command, print the list in x in reverse\n",
    "\n",
    "\n",
    "(d) Using a single print command, print the list of odd entries (starting from index 1) in x and then the list of even entries (starting from index 0) in x\n",
    "\n",
    "\n",
    "(e) Check whether the 4th item of x (0th index element is the 1st element) is same as the 1st item of y by extracting those items\n",
    "\n",
    "\n",
    "(f) Print the location of the number 10 in the list x using index()\n",
    "\n",
    "\n",
    "(g) Print the location of the number 7 in the list y using index()\n",
    "\n",
    "\n",
    "(h) Get a combined  (appended) list of the items of x and y\n",
    "\n",
    "\n",
    "(i) Create a combined list that consists of x and y. Find the location of the maximum and minimum numbers in this combined list (use max() and min()).\n"
   ]
  },
  {
   "cell_type": "code",
   "execution_count": 1,
   "id": "e0427d74",
   "metadata": {},
   "outputs": [
    {
     "name": "stdout",
     "output_type": "stream",
     "text": [
      "[0, 1, 2, 3, 4, 5, 6, 7, 8, 9]\n"
     ]
    }
   ],
   "source": [
    "#Q1.a\n",
    "# list(range(m,n,k))) # generates integers from m to n-1 in intervals of k\n",
    "x = list(range(0,10,1))\n",
    "print(x)"
   ]
  },
  {
   "cell_type": "code",
   "execution_count": 2,
   "id": "5a407598",
   "metadata": {},
   "outputs": [
    {
     "name": "stdout",
     "output_type": "stream",
     "text": [
      "[3, 4, 5, 6, 7, 8, 9, 10, 11, 12]\n"
     ]
    }
   ],
   "source": [
    "#Q1.b\n",
    "y = list(range(3,13))\n",
    "print(y)"
   ]
  },
  {
   "cell_type": "code",
   "execution_count": 3,
   "id": "e9c7b3b2",
   "metadata": {
    "scrolled": true
   },
   "outputs": [
    {
     "name": "stdout",
     "output_type": "stream",
     "text": [
      "Reverse of list x with single command [9, 8, 7, 6, 5, 4, 3, 2, 1, 0]\n"
     ]
    },
    {
     "data": {
      "text/plain": [
       "'\\nx[::-1]: This slice notation specifies:\\n\\n    :: Start from the beginning of the list.\\n    :: Go to the end of the list.\\n    -1: Step backwards by 1 element at a time.\\n'"
      ]
     },
     "execution_count": 3,
     "metadata": {},
     "output_type": "execute_result"
    }
   ],
   "source": [
    "#Q1.c\n",
    "print(\"Reverse of list x with single command\", x[::-1])\n",
    "\n",
    "\"\"\"\n",
    "x[::-1]: This slice notation specifies:\n",
    "\n",
    "    :: Start from the beginning of the list.\n",
    "    :: Go to the end of the list.\n",
    "    -1: Step backwards by 1 element at a time.\n",
    "\"\"\"\n",
    "### Can be done using reverse() function\n",
    "# x.reverse()\n",
    "# print(x)"
   ]
  },
  {
   "cell_type": "code",
   "execution_count": 4,
   "id": "be159217",
   "metadata": {},
   "outputs": [
    {
     "name": "stdout",
     "output_type": "stream",
     "text": [
      "The odd numbers in this list [1, 3, 5, 7, 9]\n",
      "The odd numbers in this list [0, 2, 4, 6, 8]\n"
     ]
    }
   ],
   "source": [
    "#Q1.d\n",
    "#odd: Start from 1:\n",
    "print(\"The odd numbers in this list\", x[1::2])\n",
    "#even: start from 0\n",
    "print(\"The odd numbers in this list\", x[::2])"
   ]
  },
  {
   "cell_type": "code",
   "execution_count": 5,
   "id": "b343cf5d",
   "metadata": {},
   "outputs": [
    {
     "name": "stdout",
     "output_type": "stream",
     "text": [
      "the 4th item of x is same as the 1st item of y\n"
     ]
    }
   ],
   "source": [
    "#Q1.e\n",
    "if x[3] == y[0]:\n",
    "    print(\"the 4th item of x is same as the 1st item of y\")\n",
    "else:\n",
    "    print(\"the 4th item of x is not same as the 1st item of y\")\n"
   ]
  },
  {
   "cell_type": "code",
   "execution_count": 6,
   "id": "d269773f",
   "metadata": {},
   "outputs": [
    {
     "name": "stdout",
     "output_type": "stream",
     "text": [
      "x is not in the list\n"
     ]
    }
   ],
   "source": [
    "#Q1.f\n",
    "if 10 in x:\n",
    "    print(x.index(10))\n",
    "else:\n",
    "    print(\"x is not in the list\")"
   ]
  },
  {
   "cell_type": "markdown",
   "id": "df4e6bf0",
   "metadata": {},
   "source": [
    "10 is not in the list stroed in x"
   ]
  },
  {
   "cell_type": "code",
   "execution_count": 7,
   "id": "fd7ee548",
   "metadata": {},
   "outputs": [
    {
     "name": "stdout",
     "output_type": "stream",
     "text": [
      "4\n"
     ]
    }
   ],
   "source": [
    "#Q1.g\n",
    "print(y.index(7))"
   ]
  },
  {
   "cell_type": "code",
   "execution_count": 8,
   "id": "a1359178",
   "metadata": {},
   "outputs": [
    {
     "name": "stdout",
     "output_type": "stream",
     "text": [
      "[0, 1, 2, 3, 4, 5, 6, 7, 8, 9, 3, 4, 5, 6, 7, 8, 9, 10, 11, 12]\n",
      "[0, 1, 2, 3, 4, 5, 6, 7, 8, 9, 3, 4, 5, 6, 7, 8, 9, 10, 11, 12]\n",
      "[0, 1, 2, 3, 4, 5, 6, 7, 8, 9, 3, 4, 5, 6, 7, 8, 9, 10, 11, 12]\n"
     ]
    }
   ],
   "source": [
    "#Q1.h\n",
    "# list concatenation (+)\n",
    "print(x + y)\n",
    "\n",
    "#using the unpacking operator (*) to unpack the elements of both lists and create a new list.\n",
    "z = [*x, *y]\n",
    "print(z)\n",
    "\n",
    "# using extend()\n",
    "x.extend(y)\n",
    "print(x)\n",
    "#Caution! it changes the value of x"
   ]
  },
  {
   "cell_type": "code",
   "execution_count": 9,
   "id": "a3a019c1",
   "metadata": {},
   "outputs": [
    {
     "name": "stdout",
     "output_type": "stream",
     "text": [
      "19\n",
      "0\n"
     ]
    }
   ],
   "source": [
    "#Q1.i # Location of max and ,im in combined list\n",
    "print(x.index(max(x)))\n",
    "print(x.index(min(x)))"
   ]
  },
  {
   "cell_type": "markdown",
   "id": "22a31024",
   "metadata": {},
   "source": [
    "Q2) Strings are lists\n",
    "\n",
    "(a) Store a string:“The quick brown fox jumps over the lazy dog” in a variable x\n",
    "\n",
    "\n",
    "(b) Check whether the word “fox” is in this sentence\n",
    "\n",
    "\n",
    "(c) Print the sentence in reverse order\n",
    "\n",
    "\n",
    "(d) Print every third character of the above sentence (0th, 3rd, 6th….characters).\n",
    "\n",
    "\n",
    "(e) Print every fourth character of the above sentence (0th, 4th, 8th…characters).\n",
    "\n",
    "\n",
    "(f) Find how many characters are there in the sentence (including spaces)\n",
    "\n",
    "\n",
    "(g) Print every second character of the sentence starting from the last character in reverse order\n",
    "\n",
    "(h) Store the first four characters of x in a variable y and the last three letters in a variable z.\n",
    "\n",
    "Print the output of y + z\n",
    "\n",
    "\n",
    "(i) Print the output of y*10\n"
   ]
  },
  {
   "cell_type": "code",
   "execution_count": 10,
   "id": "a76e4c28",
   "metadata": {},
   "outputs": [
    {
     "name": "stdout",
     "output_type": "stream",
     "text": [
      "The quick brown fox jumps over the lazy dog\n"
     ]
    }
   ],
   "source": [
    "#Q2.a \n",
    "x = \"The quick brown fox jumps over the lazy dog\" \n",
    "print(x)"
   ]
  },
  {
   "cell_type": "code",
   "execution_count": 11,
   "id": "ab7dd7db",
   "metadata": {},
   "outputs": [
    {
     "name": "stdout",
     "output_type": "stream",
     "text": [
      "The word “fox” is in this sentence\n"
     ]
    }
   ],
   "source": [
    "#Q2.b using find(), if the result is -1 then it is not present and if is present it will write it's location\n",
    "if x.find(\"fox\") != -1 :\n",
    "    print(\"The word “fox” is in this sentence\")\n",
    "else:\n",
    "    print(\"The word “fox” is not in this sentence\")"
   ]
  },
  {
   "cell_type": "code",
   "execution_count": 12,
   "id": "01454f22-0ea5-4c59-bd30-d8243ec993e2",
   "metadata": {},
   "outputs": [
    {
     "name": "stdout",
     "output_type": "stream",
     "text": [
      "The word “fox” is in this sentence\n"
     ]
    }
   ],
   "source": [
    "# Alternate Solution\n",
    "if \"fox\" in x:\n",
    "    print(\"The word “fox” is in this sentence\")\n",
    "else:\n",
    "    print(\"The word “fox” is not in this sentence\")"
   ]
  },
  {
   "cell_type": "code",
   "execution_count": 13,
   "id": "ad4be068",
   "metadata": {},
   "outputs": [
    {
     "name": "stdout",
     "output_type": "stream",
     "text": [
      "god yzal eht revo spmuj xof nworb kciuq ehT\n"
     ]
    }
   ],
   "source": [
    "#Q2.c Print the sentence in reverse order\n",
    "print(x[::-1])"
   ]
  },
  {
   "cell_type": "code",
   "execution_count": 14,
   "id": "fd99383e",
   "metadata": {},
   "outputs": [
    {
     "name": "stdout",
     "output_type": "stream",
     "text": [
      "T i o xusv ea g\n"
     ]
    }
   ],
   "source": [
    "#Q2.d  Print every third character of the above sentence\n",
    "print(x[::3])"
   ]
  },
  {
   "cell_type": "code",
   "execution_count": 15,
   "id": "5bfa1336",
   "metadata": {},
   "outputs": [
    {
     "name": "stdout",
     "output_type": "stream",
     "text": [
      "Tqkofjsehad\n"
     ]
    }
   ],
   "source": [
    "#Q2.e Print every fourth character of the above sentence\n",
    "print(x[::4])"
   ]
  },
  {
   "cell_type": "code",
   "execution_count": 16,
   "id": "4d52379a",
   "metadata": {},
   "outputs": [
    {
     "name": "stdout",
     "output_type": "stream",
     "text": [
      "43\n"
     ]
    }
   ],
   "source": [
    "#Q2.f Find how many characters are there in the sentence (including spaces)\n",
    "print(len(x))"
   ]
  },
  {
   "cell_type": "code",
   "execution_count": 17,
   "id": "4888c7f5",
   "metadata": {},
   "outputs": [
    {
     "name": "stdout",
     "output_type": "stream",
     "text": [
      "gdya h eosmjxfnobkiqeT\n"
     ]
    }
   ],
   "source": [
    "#Q2.g Print every second character of the sentence starting from the last character in reverse order\n",
    "print(x[::-2])"
   ]
  },
  {
   "cell_type": "code",
   "execution_count": 18,
   "id": "7e7eb35f",
   "metadata": {},
   "outputs": [
    {
     "name": "stdout",
     "output_type": "stream",
     "text": [
      "The dog\n"
     ]
    }
   ],
   "source": [
    "#Q2.h Store the first four characters of x in a variable y and the last three letters in a variable z.\n",
    "\n",
    "#Print the output of y + z\n",
    "\n",
    "y = x[:4]\n",
    "z = x[-3:]\n",
    "print(y + z)"
   ]
  },
  {
   "cell_type": "markdown",
   "id": "00712e75",
   "metadata": {},
   "source": [
    "x[-3:] is slice notation.\n",
    "\n",
    "    -3 indicates the starting index from the end of the string.\n",
    "    : indicates the ending index (exclusive), which is the end of the string in this case.\n",
    "\n",
    "Therefore, z will contain the last three characters of the string x."
   ]
  },
  {
   "cell_type": "code",
   "execution_count": 19,
   "id": "85062ee1",
   "metadata": {},
   "outputs": [
    {
     "name": "stdout",
     "output_type": "stream",
     "text": [
      "The The The The The The The The The The \n"
     ]
    }
   ],
   "source": [
    "#Q2,i Print the output of y*10\n",
    "print(y*10)"
   ]
  },
  {
   "cell_type": "markdown",
   "id": "9b086b7d",
   "metadata": {},
   "source": [
    "Q.3 Miscellaneous\n",
    "a) Print 'Hello World' on the screen\n",
    "\n",
    "b) Add a comment to the above program\n",
    "\n",
    "\n",
    "\n",
    "\n",
    "c) Store your name (e.g. Tintin), age (e.g. 20) and roll number (e.g.  20MS1234 ) in three variables and print them separately and also together like Hello! My name is Tintin . I am 20 years old. My roll number is 20MS1234 using these variables. Use string concatenation. \n",
    "\n",
    "\n",
    "\n",
    "\n",
    "d) Take two number strings as input and print their sum\n",
    "\n",
    "\n",
    "\n",
    "\n",
    "\n",
    "\n",
    "e) Take two integers as input and print their sum\n",
    "\n",
    "\n",
    "\n",
    "\n",
    "\n",
    "f) Use print() to print the statement -- It's good to learn Python\n",
    "\n",
    "\n",
    "\n",
    "\n",
    "\n",
    "g) Use print() to print the statement -- The man asked, \"Where to meet you?\" I said, \"Well, use Google Meet!\" \n",
    "\n",
    "\n",
    "\n",
    "\n",
    "h) Store an integer, floating point number and character in different variables and print the data type of each variable.\n",
    "\n",
    "\n",
    "\n",
    "\n",
    "i) Take your name (e.g. Feluda) in the variable 'Name' as input and print My name is Feluda using Name and string concatenation. Do the same using %s.\n"
   ]
  },
  {
   "cell_type": "code",
   "execution_count": 20,
   "id": "e2fc9db7",
   "metadata": {},
   "outputs": [
    {
     "name": "stdout",
     "output_type": "stream",
     "text": [
      "Hello , World!\n"
     ]
    }
   ],
   "source": [
    "#Q3.a\n",
    "print(\"Hello , World!\")"
   ]
  },
  {
   "cell_type": "code",
   "execution_count": 21,
   "id": "6f638c10",
   "metadata": {},
   "outputs": [
    {
     "name": "stdout",
     "output_type": "stream",
     "text": [
      "Hello , World!\n"
     ]
    }
   ],
   "source": [
    "#Q.3.b\n",
    "print(\"Hello , World!\")\n",
    "# This is a comment which is not showing in putput"
   ]
  },
  {
   "cell_type": "code",
   "execution_count": 22,
   "id": "835adc50",
   "metadata": {},
   "outputs": [
    {
     "name": "stdout",
     "output_type": "stream",
     "text": [
      "Abhisek\n",
      "23\n",
      "20MS091\n",
      "Hello! My name is  Abhisek I am 23 years old. My roll number is 20MS091\n"
     ]
    }
   ],
   "source": [
    "#Q.3.c\n",
    "name = \"Abhisek\"\n",
    "age = \"23\"\n",
    "roll_number = \"20MS091\"\n",
    "\n",
    "# Print Separately\n",
    "print(name)\n",
    "print(age)\n",
    "print(roll_number)\n",
    "\n",
    "# Print together\n",
    "print(\"Hello! My name is \", name, \"I am\", age, \"years old. My roll number is\", roll_number)"
   ]
  },
  {
   "cell_type": "code",
   "execution_count": 23,
   "id": "1703de9f",
   "metadata": {},
   "outputs": [
    {
     "name": "stdin",
     "output_type": "stream",
     "text": [
      "Enter the first number:  2\n",
      "Enter the second number:  3\n"
     ]
    },
    {
     "name": "stdout",
     "output_type": "stream",
     "text": [
      "The sum of 2 and 3 is: 5\n"
     ]
    }
   ],
   "source": [
    "#Q.3.d\n",
    "#Take two number strings as input and print their sum:\n",
    "num1_str = input(\"Enter the first number: \")\n",
    "num2_str = input(\"Enter the second number: \")\n",
    "\n",
    "# Convert strings to integers\n",
    "num1 = int(num1_str)\n",
    "num2 = int(num2_str)\n",
    "\n",
    "# Calculate the sum\n",
    "sum_of_numbers = num1 + num2\n",
    "\n",
    "# Print the sum\n",
    "print(\"The sum of\", num1_str, \"and\", num2_str, \"is:\", sum_of_numbers)"
   ]
  },
  {
   "cell_type": "code",
   "execution_count": 24,
   "id": "52c06bbb",
   "metadata": {},
   "outputs": [
    {
     "name": "stdin",
     "output_type": "stream",
     "text": [
      "Enter the first integer:  5\n",
      "Enter the second integer:  6\n"
     ]
    },
    {
     "name": "stdout",
     "output_type": "stream",
     "text": [
      "The sum of 5 and 6 is: 11\n"
     ]
    }
   ],
   "source": [
    "#Q.3.e\n",
    "# Take two integers as input and print their sum:\n",
    "num1 = int(input(\"Enter the first integer: \"))\n",
    "num2 = int(input(\"Enter the second integer: \"))\n",
    "\n",
    "# Calculate the sum\n",
    "sum_of_integers = num1 + num2\n",
    "\n",
    "# Print the sum\n",
    "print(\"The sum of\", num1, \"and\", num2, \"is:\", sum_of_integers)"
   ]
  },
  {
   "cell_type": "code",
   "execution_count": 25,
   "id": "2bb6097a",
   "metadata": {},
   "outputs": [
    {
     "name": "stdout",
     "output_type": "stream",
     "text": [
      "It's good to learn Python\n"
     ]
    }
   ],
   "source": [
    "#Q.3.f\n",
    "# Use print() to print the statement -- It's good to learn Python:\n",
    "print(\"It's good to learn Python\")"
   ]
  },
  {
   "cell_type": "code",
   "execution_count": 26,
   "id": "d09a63d3",
   "metadata": {},
   "outputs": [
    {
     "name": "stdout",
     "output_type": "stream",
     "text": [
      "The man asked, \"Where to meet you?\" I said, \"Well, use Google Meet!\"\n"
     ]
    }
   ],
   "source": [
    "#Q.3.g\n",
    "# Use print() to print the statement -- The man asked, \"Where to meet you?\" I said, \"Well, use Google Meet!\"\n",
    "print(\"The man asked, \\\"Where to meet you?\\\" I said, \\\"Well, use Google Meet!\\\"\")"
   ]
  },
  {
   "cell_type": "code",
   "execution_count": 27,
   "id": "41b87231",
   "metadata": {},
   "outputs": [
    {
     "name": "stdout",
     "output_type": "stream",
     "text": [
      "<class 'int'>\n",
      "<class 'float'>\n",
      "<class 'str'>\n"
     ]
    }
   ],
   "source": [
    "#Q.3.h\n",
    "# Store an integer, floating point number and character in different variables and print the data type of each variable.\n",
    "integer_value = 42\n",
    "float_value = 3.14\n",
    "character = 'A'\n",
    "\n",
    "print(type(integer_value))  # Output: <class 'int'>\n",
    "print(type(float_value))   # Output: <class 'float'>\n",
    "print(type(character))    # Output: <class 'str'>"
   ]
  },
  {
   "cell_type": "code",
   "execution_count": 28,
   "id": "ef498fe8",
   "metadata": {},
   "outputs": [
    {
     "name": "stdin",
     "output_type": "stream",
     "text": [
      "Enter your name:  Abhisek\n"
     ]
    },
    {
     "name": "stdout",
     "output_type": "stream",
     "text": [
      "My name is Abhisek\n",
      "My name is Abhisek\n"
     ]
    }
   ],
   "source": [
    "#Q.3.i\n",
    "# Take your name (e.g. Feluda) in the variable 'Name' as input and print My name is Feluda using Name and string concatenation. Do the same using %s.\n",
    "Name = input(\"Enter your name: \") \n",
    "\n",
    "# Using string concatenation\n",
    "print(\"My name is\", Name) \n",
    "\n",
    "# Using %s for string formatting\n",
    "print(\"My name is %s\" % Name)"
   ]
  },
  {
   "cell_type": "markdown",
   "id": "80ebd8d3",
   "metadata": {},
   "source": [
    "Q4. Write a Python function that takes two lists and returns True if they have at least one common member."
   ]
  },
  {
   "cell_type": "code",
   "execution_count": 29,
   "id": "ea0da9b6",
   "metadata": {},
   "outputs": [
    {
     "name": "stdout",
     "output_type": "stream",
     "text": [
      "True\n",
      "False\n"
     ]
    }
   ],
   "source": [
    "#Q.4\n",
    "def have_common_member(list1, list2):\n",
    "  \"\"\"\n",
    "  Checks if two lists have at least one common member.\n",
    "\n",
    "  Args:\n",
    "    list1: The first list.\n",
    "    list2: The second list.\n",
    "\n",
    "  Returns:\n",
    "    True if the lists have at least one common member, False otherwise.\n",
    "  \"\"\"\n",
    "\n",
    "  for item in list1:\n",
    "    if item in list2:\n",
    "      return True\n",
    "  return False\n",
    "\n",
    "# Example usage:\n",
    "list1 = [1, 2, 3, 4, 5]\n",
    "list2 = [4, 5, 6, 7, 8]\n",
    "print(have_common_member(list1, list2))  # Output: True\n",
    "\n",
    "list3 = [1, 2, 3]\n",
    "list4 = [6, 7, 8]\n",
    "print(have_common_member(list3, list4))  # Output: False"
   ]
  },
  {
   "cell_type": "markdown",
   "id": "884eccfe",
   "metadata": {},
   "source": [
    "Q5. Write a Python program to convert a list of characters into a string."
   ]
  },
  {
   "cell_type": "code",
   "execution_count": 30,
   "id": "3af959c1",
   "metadata": {},
   "outputs": [
    {
     "name": "stdout",
     "output_type": "stream",
     "text": [
      "Hello\n"
     ]
    }
   ],
   "source": [
    "#Q4\n",
    "x = ['H', 'e', 'l', 'l', 'o']\n",
    "string_x = \"\".join(x)\n",
    "print(string_x) # Output: Hello"
   ]
  },
  {
   "cell_type": "markdown",
   "id": "8062a2fd",
   "metadata": {},
   "source": [
    "Q6. Write a Python program to remove the K'th element from a given list, and print the updated list.\n",
    "Original list:\n",
    "[1, 1, 2, 3, 4, 4, 5, 1]\n",
    "After removing an element at the kth position of the said list:\n",
    "[1, 1, 3, 4, 4, 5, 1]"
   ]
  },
  {
   "cell_type": "code",
   "execution_count": 31,
   "id": "fb75daf4",
   "metadata": {},
   "outputs": [
    {
     "name": "stdout",
     "output_type": "stream",
     "text": [
      "List after removing using del: [1, 1, 3, 4, 4, 5, 1]\n",
      "List after removing using pop: [1, 1, 3, 4, 4, 5, 1]\n",
      "Removed element: 2\n"
     ]
    }
   ],
   "source": [
    "my_list = [1, 1, 2, 3, 4, 4, 5, 1]\n",
    "\n",
    "# Using del \n",
    "del my_list[2]  # Remove the element at index 2 (third element)\n",
    "\n",
    "print(\"List after removing using del:\", my_list)\n",
    "\n",
    "# Using pop \n",
    "my_list = [1, 1, 2, 3, 4, 4, 5, 1]\n",
    "removed_element = my_list.pop(2)  # Remove and return the element at index 2\n",
    "\n",
    "print(\"List after removing using pop:\", my_list)\n",
    "print(\"Removed element:\", removed_element)"
   ]
  }
 ],
 "metadata": {
  "kernelspec": {
   "display_name": "Python 3 (ipykernel)",
   "language": "python",
   "name": "python3"
  },
  "language_info": {
   "codemirror_mode": {
    "name": "ipython",
    "version": 3
   },
   "file_extension": ".py",
   "mimetype": "text/x-python",
   "name": "python",
   "nbconvert_exporter": "python",
   "pygments_lexer": "ipython3",
   "version": "3.12.2"
  }
 },
 "nbformat": 4,
 "nbformat_minor": 5
}
