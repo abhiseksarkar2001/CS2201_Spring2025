{
 "cells": [
  {
   "cell_type": "markdown",
   "metadata": {},
   "source": [
    "# Python Loops:\n",
    "## Presented by Abhisek Sarkar\n",
    "### as20ms091@iiserkol.ac.in"
   ]
  },
  {
   "cell_type": "markdown",
   "metadata": {},
   "source": [
    "Python has **two** primitive loop commands:\n",
    "\n",
    "* **while** loops\n",
    "* **for** loops\n"
   ]
  },
  {
   "cell_type": "markdown",
   "metadata": {},
   "source": [
    "### While loop:\n",
    "The while loop can execute a set of statements as long as a condition is true."
   ]
  },
  {
   "cell_type": "code",
   "execution_count": 3,
   "metadata": {},
   "outputs": [
    {
     "name": "stdout",
     "output_type": "stream",
     "text": [
      "1\n",
      "2\n",
      "3\n",
      "4\n",
      "5\n",
      "6\n"
     ]
    }
   ],
   "source": [
    "# Print i as long as i is less than 7\n",
    "i = 1 # The while loop requires relevant variables to be ready, in this example we need to define an indexing variable, i, which we set to 1.\n",
    "while i < 7:\n",
    "  print(i)\n",
    "  i += 1 # the loop will continue forever if we do not increment i"
   ]
  },
  {
   "cell_type": "markdown",
   "metadata": {},
   "source": [
    "#### The break Statement\n",
    "\n",
    "The break statement can stop the loop even if the while condition is true:"
   ]
  },
  {
   "cell_type": "code",
   "execution_count": 4,
   "metadata": {},
   "outputs": [
    {
     "name": "stdout",
     "output_type": "stream",
     "text": [
      "1\n",
      "2\n",
      "3\n"
     ]
    }
   ],
   "source": [
    "i = 1\n",
    "while i < 6:\n",
    "  print(i)\n",
    "  if i == 3: # Exit the loop when i is 3\n",
    "    break\n",
    "  i += 1 "
   ]
  },
  {
   "cell_type": "markdown",
   "metadata": {},
   "source": [
    "#### The continue Statement\n",
    "\n",
    "The continue statement can stop the current iteration, and continue with the next:"
   ]
  },
  {
   "cell_type": "code",
   "execution_count": 5,
   "metadata": {},
   "outputs": [
    {
     "name": "stdout",
     "output_type": "stream",
     "text": [
      "1\n",
      "2\n",
      "4\n",
      "5\n",
      "6\n"
     ]
    }
   ],
   "source": [
    "i = 0\n",
    "while i < 6:\n",
    "  i += 1\n",
    "  if i == 3: #Continue to the next iteration if i is 3\n",
    "    continue\n",
    "  print(i)"
   ]
  },
  {
   "cell_type": "markdown",
   "metadata": {},
   "source": [
    "#### The else Statement\n",
    "\n",
    "The else statement can run a block of code once when the condition no longer is true:\n"
   ]
  },
  {
   "cell_type": "code",
   "execution_count": 6,
   "metadata": {},
   "outputs": [
    {
     "name": "stdout",
     "output_type": "stream",
     "text": [
      "1\n",
      "2\n",
      "3\n",
      "4\n",
      "5\n",
      "i is no longer less than 6\n"
     ]
    }
   ],
   "source": [
    "i = 1\n",
    "while i < 6:\n",
    "  print(i)\n",
    "  i += 1\n",
    "else:\n",
    "  print(\"i is no longer less than 6\")"
   ]
  },
  {
   "cell_type": "markdown",
   "metadata": {},
   "source": [
    "# For Loop\n",
    "\n",
    "A for loop is used for iterating over a sequence (that is either a list, a tuple, a dictionary, a set, or a string).\n",
    "\n",
    "This is less like the for keyword in other programming languages, and works more like an iterator method as found in other object-orientated programming languages.\n",
    "\n",
    "With the for loop we can execute a set of statements, once for each item in a list, tuple, set etc."
   ]
  },
  {
   "cell_type": "code",
   "execution_count": 9,
   "metadata": {},
   "outputs": [
    {
     "name": "stdout",
     "output_type": "stream",
     "text": [
      "COD\n",
      "GTA V\n",
      "Red Dead Redemption 2\n",
      "God of War\n",
      "FIFA 14\n"
     ]
    }
   ],
   "source": [
    "games = [\"COD\", \"GTA V\", \"Red Dead Redemption 2\", \"God of War\", \"FIFA 14\"]\n",
    "for x in games:\n",
    "  print(x)"
   ]
  },
  {
   "cell_type": "markdown",
   "metadata": {},
   "source": [
    "**Unlike `while` loop , The for loop does not require an indexing variable to set beforehand.**"
   ]
  },
  {
   "cell_type": "markdown",
   "metadata": {},
   "source": [
    "### Looping Through a String\n",
    "Even strings are iterable objects, they contain a sequence of characters:"
   ]
  },
  {
   "cell_type": "code",
   "execution_count": 11,
   "metadata": {},
   "outputs": [
    {
     "name": "stdout",
     "output_type": "stream",
     "text": [
      "p\n",
      "y\n",
      "t\n",
      "h\n",
      "o\n",
      "n\n"
     ]
    }
   ],
   "source": [
    "for x in \"python\": # Loop through the letters in the word \"python\"\n",
    "  print(x)"
   ]
  },
  {
   "cell_type": "markdown",
   "metadata": {},
   "source": [
    "### The break Statement\n",
    "\n",
    "With the break statement the loop can be stopped before it has looped through all the items:"
   ]
  },
  {
   "cell_type": "code",
   "execution_count": 17,
   "metadata": {},
   "outputs": [
    {
     "name": "stdout",
     "output_type": "stream",
     "text": [
      "COD\n",
      "GTA V\n"
     ]
    }
   ],
   "source": [
    "games = [\"COD\", \"GTA V\", \"Red Dead Redemption 2\", \"God of War\", \"FIFA 14\"]\n",
    "for x in games:\n",
    "  if x == \"Red Dead Redemption 2\":\n",
    "    break\n",
    "  print(x)"
   ]
  },
  {
   "cell_type": "markdown",
   "metadata": {},
   "source": [
    "### The continue Statement\n",
    "\n",
    "The continue statement can stop the current iteration of the loop, and continue with the next:"
   ]
  },
  {
   "cell_type": "code",
   "execution_count": 18,
   "metadata": {},
   "outputs": [
    {
     "name": "stdout",
     "output_type": "stream",
     "text": [
      "COD\n",
      "GTA V\n",
      "Red Dead Redemption 2\n",
      "FIFA 14\n"
     ]
    }
   ],
   "source": [
    "games = [\"COD\", \"GTA V\", \"Red Dead Redemption 2\", \"God of War\", \"FIFA 14\"]\n",
    "for x in games:\n",
    "  if x == \"God of War\":\n",
    "    continue\n",
    "  print(x)"
   ]
  },
  {
   "cell_type": "markdown",
   "metadata": {},
   "source": [
    "### The pass Statement\n",
    "\n",
    "for loops cannot be empty, but if you for some reason have a for loop with no content, put in the pass statement to avoid getting an error."
   ]
  },
  {
   "cell_type": "code",
   "execution_count": 19,
   "metadata": {},
   "outputs": [],
   "source": [
    "for x in [0, 1, 2]:\n",
    "  pass"
   ]
  },
  {
   "cell_type": "markdown",
   "metadata": {},
   "source": [
    "### Else in For Loop\n",
    "The else keyword in a for loop specifies a block of code to be executed when the loop is finished:"
   ]
  },
  {
   "cell_type": "code",
   "execution_count": 21,
   "metadata": {},
   "outputs": [
    {
     "name": "stdout",
     "output_type": "stream",
     "text": [
      "0\n",
      "1\n",
      "2\n",
      "3\n",
      "4\n",
      "The program is finished!\n"
     ]
    }
   ],
   "source": [
    "# Print all numbers from 0 to 5, and print a message when the loop has ended:\n",
    "for x in range(5):\n",
    "  print(x)\n",
    "else:\n",
    "  print(\"The program is finished!\") "
   ]
  },
  {
   "cell_type": "markdown",
   "metadata": {},
   "source": [
    "### Range:\n",
    "`range(start, end, step)`"
   ]
  },
  {
   "cell_type": "code",
   "execution_count": 23,
   "metadata": {},
   "outputs": [
    {
     "name": "stdout",
     "output_type": "stream",
     "text": [
      "1\n",
      "3\n",
      "5\n",
      "7\n",
      "9\n"
     ]
    }
   ],
   "source": [
    "# Printing Odd numbers from 1 to 10\n",
    "for x in range(1, 10, 2):\n",
    "  print(x)"
   ]
  }
 ],
 "metadata": {
  "kernelspec": {
   "display_name": "Python 3 (ipykernel)",
   "language": "python",
   "name": "python3"
  },
  "language_info": {
   "codemirror_mode": {
    "name": "ipython",
    "version": 3
   },
   "file_extension": ".py",
   "mimetype": "text/x-python",
   "name": "python",
   "nbconvert_exporter": "python",
   "pygments_lexer": "ipython3",
   "version": "3.12.2"
  }
 },
 "nbformat": 4,
 "nbformat_minor": 4
}
