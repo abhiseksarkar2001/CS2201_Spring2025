{
 "cells": [
  {
   "cell_type": "markdown",
   "metadata": {},
   "source": [
    "# Python Functions:\n",
    "## Presented by Abhisek Sarkar\n",
    "### as20ms091@iiserkol.ac.in"
   ]
  },
  {
   "cell_type": "markdown",
   "metadata": {},
   "source": [
    "**Function:** A block of code that performs a specific task."
   ]
  },
  {
   "cell_type": "markdown",
   "metadata": {},
   "source": [
    "## What is Python Function?\n",
    "Python function is a block of code that can be executed multiple times from different parts of the program.\n",
    "* only runs when it is called.\n",
    "\n",
    "* Data can be passed, known as parameters, into a function.\n",
    "\n",
    "* A function can return data as a result."
   ]
  },
  {
   "cell_type": "markdown",
   "metadata": {},
   "source": [
    "#### Creating a Function\n",
    "\n",
    "In Python a function is defined using the ```def``` keyword:"
   ]
  },
  {
   "cell_type": "code",
   "execution_count": 4,
   "metadata": {},
   "outputs": [],
   "source": [
    "def function():\n",
    "  print(\"Hello World!\") "
   ]
  },
  {
   "cell_type": "markdown",
   "metadata": {},
   "source": [
    "#### Calling a Function\n",
    "\n",
    "To call a function, use the function name followed by parenthesis:"
   ]
  },
  {
   "cell_type": "code",
   "execution_count": 5,
   "metadata": {},
   "outputs": [
    {
     "name": "stdout",
     "output_type": "stream",
     "text": [
      "Hello World!\n"
     ]
    }
   ],
   "source": [
    "def function():\n",
    "  print(\"Hello World!\")\n",
    "\n",
    "function()"
   ]
  },
  {
   "cell_type": "markdown",
   "metadata": {},
   "source": [
    "#### Arguments\n",
    "In computing, arguments are values that are passed to a function when it is called. These values are used within the function to perform specific operations or calculations.\n",
    "\n",
    "* **Argument:** The input value that the function receives.\n",
    "* **Parameter:** A variable that represents an argument within the function's definition.\n",
    "\n",
    "**Key Points:**\n",
    "\n",
    "* Arguments allow functions to be more versatile and reusable.\n",
    "* You can pass multiple arguments to a function by separating them with commas.\n",
    "* The order of arguments matters when calling a function.\n",
    "\n",
    "**Example:**\n",
    "\n",
    "```python\n",
    "def greet(name):\n",
    "  \"\"\"This function greets the person passed in as a parameter.\"\"\"\n",
    "  print(\"Hello, \" + name + \". Good morning!\")\n",
    "\n",
    "greet('Abhisek')  # Output: Hello, Abhisek. Good morning!\n",
    "```\n",
    "\n",
    "In this example, `name` is the parameter, and `'Abhisek'` is the argument. The `greet` function uses the argument to personalize the greeting.\n"
   ]
  },
  {
   "cell_type": "markdown",
   "metadata": {},
   "source": [
    "#### In short:\n",
    "\n",
    "\n",
    "From a function's perspective:\n",
    "\n",
    "* A **parameter** is the <u>variable listed inside the parentheses in the function definition</u>.\n",
    "\n",
    "* An **argument** is the <u>value that is sent to the function when it is called</u>.\n"
   ]
  },
  {
   "cell_type": "markdown",
   "metadata": {},
   "source": [
    "#### Number of Arguments:\n",
    "When you define a function, you usually specify how many input values (arguments) it needs to work correctly. To use that function, you must provide exactly that number of arguments.\n",
    "\n",
    "For example:\n",
    "\n",
    "If a function is designed to take two pieces of information, you must give it two values when you \"call\" it. You can't use it with only one value or with three values.\n",
    "\n",
    "This ensures that the function receives the necessary information to perform its intended task accurately."
   ]
  },
  {
   "cell_type": "code",
   "execution_count": 6,
   "metadata": {},
   "outputs": [
    {
     "name": "stdout",
     "output_type": "stream",
     "text": [
      "Abhisek Sarkar\n"
     ]
    }
   ],
   "source": [
    "def my_function(first_name, last_name):\n",
    "  print(first_name + \" \" + last_name)\n",
    "\n",
    "my_function(\"Abhisek\", \"Sarkar\") "
   ]
  },
  {
   "cell_type": "markdown",
   "metadata": {},
   "source": [
    "* This function expects 2 arguments, and gets 2 arguments.\n",
    "* If the function is called with 1 or 3 arguments, there will be error: "
   ]
  },
  {
   "cell_type": "markdown",
   "metadata": {},
   "source": [
    "##### If we pass 3 arguments?\n",
    "```\n",
    "def my_function(first_name, last_name):\n",
    "  print(first_name + \" \" + last_name)\n",
    "\n",
    "my_function(\"Michael\", \"Joseph\", \"Jackson\") \n",
    "```"
   ]
  },
  {
   "cell_type": "markdown",
   "metadata": {},
   "source": [
    "```\n",
    "---------------------------------------------------------------------------\n",
    "TypeError                                 Traceback (most recent call last)\n",
    "Cell In[7], line 4\n",
    "      1 def my_function(first_name, last_name):\n",
    "      2   print(first_name + \" \" + last_name)\n",
    "----> 4 my_function(\"Michael\", \"Joseph\", \"Jackson\")\n",
    "\n",
    "TypeError: my_function() takes 2 positional arguments but 3 were given\n",
    "```"
   ]
  },
  {
   "cell_type": "markdown",
   "metadata": {},
   "source": [
    "### Arbitrary Arguments, *args\n",
    "What if we want to pass a variable number of arguments to a function? We can use the `*args`\n",
    "If the number of arguments is **unknown**, add a `*` before the parameter name."
   ]
  },
  {
   "cell_type": "code",
   "execution_count": 8,
   "metadata": {},
   "outputs": [
    {
     "name": "stdout",
     "output_type": "stream",
     "text": [
      "The highest goal scorer in football is Ronaldo\n"
     ]
    }
   ],
   "source": [
    "def goal_scorer(*players):\n",
    "  print(\"The highest goal scorer in football is \" + players[2])\n",
    "\n",
    "goal_scorer(\"Maradona\", \"Messi\", \"Ronaldo\", \"Anthony\", \"Nicolas Jackson\")"
   ]
  }
 ],
 "metadata": {
  "kernelspec": {
   "display_name": "Python 3 (ipykernel)",
   "language": "python",
   "name": "python3"
  },
  "language_info": {
   "codemirror_mode": {
    "name": "ipython",
    "version": 3
   },
   "file_extension": ".py",
   "mimetype": "text/x-python",
   "name": "python",
   "nbconvert_exporter": "python",
   "pygments_lexer": "ipython3",
   "version": "3.12.2"
  }
 },
 "nbformat": 4,
 "nbformat_minor": 4
}
