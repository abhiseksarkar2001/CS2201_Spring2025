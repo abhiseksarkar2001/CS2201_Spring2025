{
 "cells": [
  {
   "cell_type": "markdown",
   "metadata": {},
   "source": [
    "# CS2201\n",
    "# Week 2\n",
    "## Set 2\n",
    "### Solution by Abhisek Sarkar\n",
    "#### as20ms091@iiserkol.ac.in"
   ]
  },
  {
   "cell_type": "markdown",
   "metadata": {},
   "source": [
    "### Extra Resources:\n",
    "* For patterns in python look: https://www.geeksforgeeks.org/programs-printing-pyramid-patterns-python/"
   ]
  },
  {
   "cell_type": "markdown",
   "metadata": {},
   "source": [
    "### Q1.\n",
    "Write a program which prints the following sequence of strings using a for loop\n",
    "```\n",
    "mitochondria\n",
    "mitochondria\n",
    "mitochondri\n",
    "mitochondr\n",
    "mitochond\n",
    "mitochon\n",
    "mitocho\n",
    "mitoch\n",
    "mitoc\n",
    "mito\n",
    "mit\n",
    "mi\n",
    "m\n",
    "```"
   ]
  },
  {
   "cell_type": "code",
   "execution_count": 1,
   "metadata": {},
   "outputs": [
    {
     "name": "stdout",
     "output_type": "stream",
     "text": [
      "mitochondria\n",
      "mitochondri\n",
      "mitochondr\n",
      "mitochond\n",
      "mitochon\n",
      "mitocho\n",
      "mitoch\n",
      "mitoc\n",
      "mito\n",
      "mit\n",
      "mi\n",
      "m\n"
     ]
    }
   ],
   "source": [
    "def print_sequence():\n",
    "  \"\"\"Prints the given sequence of strings using a for loop.\"\"\"\n",
    "  word = \"mitochondria\"\n",
    "  for i in range(len(word), 0, -1):\n",
    "    print(word[:i])\n",
    "\n",
    "# Call the function to print the sequence\n",
    "print_sequence()"
   ]
  },
  {
   "cell_type": "markdown",
   "metadata": {},
   "source": [
    "**Explanation:**\n",
    "\n",
    "1. **`def print_sequence():`** \n",
    "   - This line defines a function named `print_sequence` that will handle the printing of the sequence.\n",
    "\n",
    "2. **`word = \"mitochondria\"`** \n",
    "   - This line assigns the string \"mitochondria\" to the variable `word`.\n",
    "\n",
    "3. **`for i in range(len(word), 0, -1):`** \n",
    "   - This is the main loop. \n",
    "     - `range(len(word), 0, -1)` creates a sequence of numbers starting from the length of the word (`len(word)`) and decrementing by 1 in each iteration until it reaches 1. This ensures that the loop iterates through the desired number of characters.\n",
    "\n",
    "4. **`print(word[:i])`** \n",
    "   - This line prints a slice of the original word. \n",
    "     - `word[:i]` extracts a substring from the beginning of the word (`word`) up to the index `i-1`. This effectively shortens the word in each iteration, producing the desired sequence.\n",
    "\n",
    "5. **`print_sequence()`** \n",
    "   - This line calls the `print_sequence` function to execute the code within it and print the sequence to the console.\n",
    "\n",
    "This code will output the following:\n",
    "\n",
    "```\n",
    "mitochondria\n",
    "mitochondria\n",
    "mitochondri\n",
    "mitochondr\n",
    "mitochond\n",
    "mitochon\n",
    "mitocho\n",
    "mitoch\n",
    "mitoc\n",
    "mito\n",
    "mit\n",
    "mi\n",
    "m\n",
    "```\n"
   ]
  },
  {
   "cell_type": "markdown",
   "metadata": {},
   "source": [
    "### Q2.\n",
    "Consider a list of names of chemical elements (e.g. sodium, potassium etc.) and write a program that finds the longest name in that list. Using “format()” print the longest name thus found with its length.\n"
   ]
  },
  {
   "cell_type": "code",
   "execution_count": 2,
   "metadata": {},
   "outputs": [
    {
     "name": "stdout",
     "output_type": "stream",
     "text": [
      "The longest element name is: Rutherfordium\n",
      "Its length is: 13\n"
     ]
    }
   ],
   "source": [
    "elements_list = [\n",
    "    \"Hydrogen\",\n",
    "    \"Helium\",\n",
    "    \"Lithium\",\n",
    "    \"Beryllium\",\n",
    "    \"Boron\",\n",
    "    \"Carbon\",\n",
    "    \"Nitrogen\",\n",
    "    \"Oxygen\",\n",
    "    \"Fluorine\",\n",
    "    \"Neon\",\n",
    "    \"Sodium\",\n",
    "    \"Magnesium\",\n",
    "    \"Aluminum\",\n",
    "    \"Silicon\",\n",
    "    \"Phosphorus\",\n",
    "    \"Sulfur\",\n",
    "    \"Chlorine\",\n",
    "    \"Argon\",\n",
    "    \"Potassium\",\n",
    "    \"Calcium\",\n",
    "    \"Scandium\",\n",
    "    \"Titanium\",\n",
    "    \"Vanadium\",\n",
    "    \"Chromium\",\n",
    "    \"Manganese\",\n",
    "    \"Iron\",\n",
    "    \"Cobalt\",\n",
    "    \"Nickel\",\n",
    "    \"Copper\",\n",
    "    \"Zinc\",\n",
    "    \"Gallium\",\n",
    "    \"Germanium\",\n",
    "    \"Arsenic\",\n",
    "    \"Selenium\",\n",
    "    \"Bromine\",\n",
    "    \"Krypton\",\n",
    "    \"Rubidium\",\n",
    "    \"Strontium\",\n",
    "    \"Yttrium\",\n",
    "    \"Zirconium\",\n",
    "    \"Niobium\",\n",
    "    \"Molybdenum\",\n",
    "    \"Technetium\",\n",
    "    \"Ruthenium\",\n",
    "    \"Rhodium\",\n",
    "    \"Palladium\",\n",
    "    \"Silver\",\n",
    "    \"Cadmium\",\n",
    "    \"Indium\",\n",
    "    \"Tin\",\n",
    "    \"Antimony\",\n",
    "    \"Tellurium\",\n",
    "    \"Iodine\",\n",
    "    \"Xenon\",\n",
    "    \"Cesium\",\n",
    "    \"Barium\",\n",
    "    \"Lanthanum\",\n",
    "    \"Cerium\",\n",
    "    \"Praseodymium\",\n",
    "    \"Neodymium\",\n",
    "    \"Promethium\",\n",
    "    \"Samarium\",\n",
    "    \"Europium\",\n",
    "    \"Gadolinium\",\n",
    "    \"Terbium\",\n",
    "    \"Dysprosium\",\n",
    "    \"Holmium\",\n",
    "    \"Erbium\",\n",
    "    \"Thulium\",\n",
    "    \"Ytterbium\",\n",
    "    \"Lutetium\",\n",
    "    \"Hafnium\",\n",
    "    \"Tantalum\",\n",
    "    \"Tungsten\",\n",
    "    \"Rhenium\",\n",
    "    \"Osmium\",\n",
    "    \"Iridium\",\n",
    "    \"Platinum\",\n",
    "    \"Gold\",\n",
    "    \"Mercury\",\n",
    "    \"Thallium\",\n",
    "    \"Lead\",\n",
    "    \"Bismuth\",\n",
    "    \"Polonium\",\n",
    "    \"Astatine\",\n",
    "    \"Radon\",\n",
    "    \"Francium\",\n",
    "    \"Radium\",\n",
    "    \"Actinium\",\n",
    "    \"Thorium\",\n",
    "    \"Protactinium\",\n",
    "    \"Uranium\",\n",
    "    \"Neptunium\",\n",
    "    \"Plutonium\",\n",
    "    \"Americium\",\n",
    "    \"Curium\",\n",
    "    \"Berkelium\",\n",
    "    \"Californium\",\n",
    "    \"Einsteinium\",\n",
    "    \"Fermium\",\n",
    "    \"Mendelevium\",\n",
    "    \"Nobelium\",\n",
    "    \"Lawrencium\",\n",
    "    \"Rutherfordium\",\n",
    "    \"Dubnium\",\n",
    "    \"Seaborgium\",\n",
    "    \"Bohrium\",\n",
    "    \"Hassium\",\n",
    "    \"Meitnerium\",\n",
    "    \"Darmstadtium\",\n",
    "    \"Roentgenium\",\n",
    "    \"Copernicium\",\n",
    "    \"Nihonium\",\n",
    "    \"Flerovium\",\n",
    "    \"Moscovium\",\n",
    "    \"Livermorium\",\n",
    "    \"Tennessine\",\n",
    "    \"Oganesson\",\n",
    "]\n",
    "\n",
    "def find_longest_name(elements):\n",
    "  \"\"\"\n",
    "  Finds the longest name in a list of chemical elements.\n",
    "\n",
    "  Args:\n",
    "    elements: A list of strings representing chemical element names.\n",
    "\n",
    "  Returns:\n",
    "    A tuple containing the longest name and its length.\n",
    "  \"\"\"\n",
    "  longest_name = \"\"\n",
    "  max_length = 0\n",
    "\n",
    "  for element in elements:\n",
    "    if len(element) > max_length:\n",
    "      longest_name = element\n",
    "      max_length = len(element)\n",
    "\n",
    "  return longest_name, max_length\n",
    "\n",
    "\n",
    "longest_name, length = find_longest_name(elements_list)\n",
    "\n",
    "print(\"The longest element name is: {}\".format(longest_name))\n",
    "print(\"Its length is: {}\".format(length))"
   ]
  },
  {
   "cell_type": "markdown",
   "metadata": {},
   "source": [
    "This program defines a function find_longest_name() that takes a list of element names as input. It iterates through the list, keeping track of the longest name encountered so far. Finally, it returns the longest name and its length.\n",
    "\n",
    "In the example usage, the list elements_list contains some sample element names. The function is called with this list, and the results are printed using the format() method for clear output."
   ]
  },
  {
   "cell_type": "markdown",
   "metadata": {},
   "source": [
    "### Q3.\n",
    "Take your full name as input and make an abbreviation of your name based on the initials of the names. E.g. if the input is “Subhash Chandra Bose”, the desired output is “S. C. Bose”."
   ]
  },
  {
   "cell_type": "code",
   "execution_count": 18,
   "metadata": {},
   "outputs": [
    {
     "name": "stdout",
     "output_type": "stream",
     "text": [
      "Your full name is Cristiano Ronaldo dos Santos Aveiro\n",
      "Abbreviated Name: C. R. D. S. Aveiro\n"
     ]
    }
   ],
   "source": [
    "def abbreviate_name(full_name):\n",
    "    # Split the name into parts\n",
    "    name_parts = full_name.split()\n",
    "    \n",
    "    # Abbreviate all parts except the last one\n",
    "    abbreviated = [f\"{part[0].upper()}.\" for part in name_parts[:-1]]\n",
    "    \n",
    "    # Append the last name without abbreviation\n",
    "    abbreviated.append(name_parts[-1].capitalize())\n",
    "    \n",
    "    # Join the parts together\n",
    "    return \" \".join(abbreviated)\n",
    "\n",
    "# Input and Output\n",
    "full_name = input(\"Enter your full name: \")\n",
    "print(f\"Your full name is {full_name}\")\n",
    "abbreviated_name = abbreviate_name(full_name)\n",
    "print(\"Abbreviated Name:\", abbreviated_name)\n"
   ]
  },
  {
   "cell_type": "markdown",
   "metadata": {},
   "source": [
    "### Concept about .split()\n",
    "The `.split()` method in Python is a powerful tool for string manipulation. Here's how it works:\n",
    "\n",
    "**Purpose:**\n",
    "\n",
    "* **Breaks a string into a list of substrings.** \n",
    "* **Splits the string based on a specified delimiter.**\n",
    "\n",
    "**Syntax:**\n",
    "\n",
    "```python\n",
    "string.split(separator, maxsplit)\n",
    "```\n",
    "\n",
    "* **string:** The string you want to split.\n",
    "* **separator (optional):** \n",
    "    * The character or substring used to separate the string. \n",
    "    * If omitted, whitespace (spaces, tabs, newlines) is used as the separator.\n",
    "* **maxsplit (optional):** \n",
    "    * The maximum number of splits to perform. \n",
    "    * If omitted, all occurrences of the separator are used.\n",
    "\n",
    "**Examples:**\n",
    "\n",
    "1. **Splitting by whitespace:**\n",
    "\n",
    "```python\n",
    "my_string = \"This is an example string\"\n",
    "words = my_string.split() \n",
    "print(words)  # Output: ['This', 'is', 'an', 'example', 'string'] \n",
    "```\n",
    "\n",
    "2. **Splitting by a specific character:**\n",
    "\n",
    "```python\n",
    "sentence = \"apple,banana,orange\"\n",
    "fruits = sentence.split(\",\")\n",
    "print(fruits)  # Output: ['apple', 'banana', 'orange']\n",
    "```\n",
    "\n",
    "3. **Using maxsplit:**\n",
    "\n",
    "```python\n",
    "line = \"field1:value1:field2:value2\"\n",
    "parts = line.split(\":\", 2) \n",
    "print(parts)  # Output: ['field1', 'value1', 'field2:value2']\n",
    "```\n",
    "\n",
    "**Key Points:**\n",
    "\n",
    "* The `.split()` method returns a list of substrings.\n",
    "* If the separator is not found, the entire string is returned as a single-element list.\n",
    "* The `maxsplit` argument controls the number of splits, which can be useful for specific parsing needs.\n"
   ]
  },
  {
   "cell_type": "markdown",
   "metadata": {},
   "source": [
    "### Concept about .upper()\n",
    "The `.upper()` method in Python is a string method that converts all lowercase characters in a string to uppercase characters and returns the new string. It doesn't modify the original string.\n",
    "\n",
    "**Syntax:**\n",
    "\n",
    "```python\n",
    "string.upper()\n",
    "```\n",
    "\n",
    "**Parameters:**\n",
    "\n",
    "* The `.upper()` method doesn't take any parameters.\n",
    "\n",
    "**Return Value:**\n",
    "\n",
    "* A new string with all lowercase characters converted to uppercase. If the original string doesn't have any lowercase characters, it returns the original string.\n",
    "\n",
    "**Example:**\n",
    "\n",
    "```python\n",
    "my_string = \"hello world\"\n",
    "uppercase_string = my_string.upper()\n",
    "print(uppercase_string)  # Output: \"HELLO WORLD\"\n",
    "```\n",
    "\n",
    "**Key Points:**\n",
    "\n",
    "* The `.upper()` method only affects lowercase alphabetic characters. Other characters like numbers, symbols, and uppercase characters remain unchanged.\n",
    "* The `.upper()` method is case-insensitive, meaning it doesn't distinguish between different cases when comparing strings. For example, `\"Hello\"` and `\"hello\"` are considered the same when compared using `.upper()`.\n"
   ]
  },
  {
   "cell_type": "markdown",
   "metadata": {},
   "source": [
    "### Concept about .capitalize()\n",
    "The `.capitalize()` method in Python is a string method that converts the first character of the string to uppercase and the rest of the characters to lowercase. \n",
    "\n",
    "**Key Points:**\n",
    "\n",
    "* **Case Conversion:** It specifically targets the first character for uppercase conversion.\n",
    "* **Case Normalization:** It can be used to standardize the case of strings, especially when dealing with user input or text that might have inconsistent capitalization.\n",
    "* **Returns a New String:** The `.capitalize()` method does not modify the original string. It returns a new string with the modified case.\n",
    "\n",
    "**Example:**\n",
    "\n",
    "```python\n",
    "text = \"hello world\"\n",
    "capitalized_text = text.capitalize()\n",
    "print(capitalized_text)  # Output: \"Hello world\"\n",
    "```\n",
    "\n",
    "In this example:\n",
    "\n",
    "1. The original string is `\"hello world\"`.\n",
    "2. The `.capitalize()` method is called on the string.\n",
    "3. The first character, 'h', is converted to uppercase, and the rest of the characters are converted to lowercase.\n",
    "4. A new string, `\"Hello world\"`, is created and stored in the `capitalized_text` variable."
   ]
  },
  {
   "cell_type": "markdown",
   "metadata": {},
   "source": [
    "### Concept .join() vs .append()\n",
    "**Purpose:**\n",
    "\n",
    "* **.join():** \n",
    "    * Combines elements of an iterable (like a list or tuple) into a single string.\n",
    "    * Uses a specified separator to join the elements.\n",
    "\n",
    "* **.append():**\n",
    "    * Adds a single element to the end of a list.\n",
    "\n",
    "**Syntax:**\n",
    "\n",
    "* **.join():**\n",
    "    ```python\n",
    "    separator.join(iterable)\n",
    "    ```\n",
    "    * `separator`: The string to be used between each element.\n",
    "    * `iterable`: The list or other iterable containing the elements to be joined.\n",
    "\n",
    "* **.append():**\n",
    "    ```python\n",
    "    list.append(element)\n",
    "    ```\n",
    "    * `list`: The list to which you want to add the element.\n",
    "    * `element`: The element to be added to the end of the list.\n",
    "\n",
    "**Examples:**\n",
    "\n",
    "* **.join():**\n",
    "\n",
    "```python\n",
    "my_list = [\"apple\", \"banana\", \"orange\"]\n",
    "joined_string = \",\".join(my_list) \n",
    "print(joined_string)  # Output: \"apple,banana,orange\"\n",
    "```\n",
    "\n",
    "* **.append():**\n",
    "\n",
    "```python\n",
    "my_list = [\"apple\", \"banana\"]\n",
    "my_list.append(\"orange\")\n",
    "print(my_list)  # Output: [\"apple\", \"banana\", \"orange\"]\n",
    "```\n",
    "\n",
    "**Key Differences:**\n",
    "\n",
    "* **.join()** creates a string, while **.append()** modifies a list in-place.\n",
    "* **.join()** takes an iterable as input, while **.append()** takes a single element.\n",
    "* **.join()** uses a separator to combine elements, while **.append()** simply adds the element to the end of the list.\n",
    "\n"
   ]
  },
  {
   "cell_type": "markdown",
   "metadata": {},
   "source": [
    "### Concept: f-string\n",
    "f-strings, or formatted string literals, are a powerful feature in Python that simplify string formatting and interpolation. They were introduced in Python 3.6 and offer a concise and readable way to embed expressions and variables directly into strings.\n",
    "\n",
    "Here's a breakdown of how f-strings work:\n",
    "\n",
    "**Syntax:**\n",
    "\n",
    "- An f-string starts with the letter `f` or `F` followed by a string literal enclosed in single or double quotes.\n",
    "- Expressions or variables to be embedded are placed within curly braces `{}` inside the string.\n",
    "\n",
    "**Example:**\n",
    "\n",
    "```python\n",
    "name = \"Alice\"\n",
    "age = 30\n",
    "sentence = f\"My name is {name} and I am {age} years old.\"\n",
    "print(sentence)  # Output: \"My name is Alice and I am 30 years old.\"\n",
    "```\n",
    "\n",
    "**Key Benefits of f-strings:**\n",
    "\n",
    "- **Readability:** f-strings are often considered more readable than older formatting methods like `%` formatting or the `str.format()` method.\n",
    "- **Conciseness:** They provide a more concise syntax for string interpolation.\n",
    "- **Flexibility:** You can embed any valid Python expression within the curly braces, including calculations, function calls, and complex logic.\n",
    "- **Performance:** f-strings are generally faster than older formatting methods, especially for complex expressions.\n",
    "\n",
    "**Advanced Features:**\n",
    "\n",
    "- **Format Specifiers:** You can use format specifiers within the curly braces to control how the embedded value is formatted. For example:\n",
    "  ```python\n",
    "  pi = 3.14159\n",
    "  formatted_pi = f\"The value of pi is {pi:.2f}\"  # Output: \"The value of pi is 3.14\"\n",
    "  ```\n",
    "- **Expression Evaluation:** f-strings evaluate expressions at runtime, allowing for dynamic string construction.\n",
    "  ```python\n",
    "  x = 10\n",
    "  y = 5\n",
    "  result = f\"The sum of {x} and {y} is {x + y}\"  # Output: \"The sum of 10 and 5 is 15\"\n",
    "  ```\n"
   ]
  },
  {
   "cell_type": "markdown",
   "metadata": {},
   "source": [
    "### Q4\n",
    "Write a program that prints the first 10 elements of a Fibonacci series 1, 1, 2, 3,5, 8, 13,....., where each element is the sum of the two previous elements (the first two numbers are defined to be 1)."
   ]
  },
  {
   "cell_type": "code",
   "execution_count": 37,
   "metadata": {},
   "outputs": [
    {
     "name": "stdout",
     "output_type": "stream",
     "text": [
      "First 10 elements of the Fibonacci series: [1, 1, 2, 3, 5, 8, 13, 21, 34, 55]\n"
     ]
    }
   ],
   "source": [
    "def fibonacci_series(n):\n",
    "    if n <= 0:\n",
    "        return []  # Return an empty list if the input is invalid\n",
    "    elif n == 1:\n",
    "        return [1]  # Return [1] if only 1 element is requested\n",
    "    elif n == 2:\n",
    "        return [1, 1]  # Return [1, 1] if 2 elements are requested\n",
    "    else:\n",
    "        # Initialize the first two numbers of the series\n",
    "        fib_series = [1, 1]\n",
    "        # Generate the remaining numbers of the series\n",
    "        for _ in range(2, n):\n",
    "            next_number = fib_series[-1] + fib_series[-2]\n",
    "            fib_series.append(next_number)\n",
    "        return fib_series\n",
    "\n",
    "# Define the number of elements to display\n",
    "num_elements = int(input(\"Enter the number of Fibonacci elements to display: \"))\n",
    "fib_series = fibonacci_series(num_elements)\n",
    "print(f\"First {num_elements} elements of the Fibonacci series:\", fib_series)\n",
    "\n"
   ]
  },
  {
   "cell_type": "code",
   "execution_count": 38,
   "metadata": {},
   "outputs": [
    {
     "name": "stdout",
     "output_type": "stream",
     "text": [
      "First 0 elements of the Fibonacci series: []\n"
     ]
    }
   ],
   "source": [
    "# Define the number of elements to display\n",
    "num_elements = int(input(\"Enter the number of Fibonacci elements to display: \"))\n",
    "fib_series = fibonacci_series(num_elements)\n",
    "print(f\"First {num_elements} elements of the Fibonacci series:\", fib_series)\n"
   ]
  },
  {
   "cell_type": "code",
   "execution_count": 39,
   "metadata": {},
   "outputs": [
    {
     "name": "stdout",
     "output_type": "stream",
     "text": [
      "First 1 elements of the Fibonacci series: [1]\n"
     ]
    }
   ],
   "source": [
    "# Define the number of elements to display\n",
    "num_elements = int(input(\"Enter the number of Fibonacci elements to display: \"))\n",
    "fib_series = fibonacci_series(num_elements)\n",
    "print(f\"First {num_elements} elements of the Fibonacci series:\", fib_series)\n"
   ]
  },
  {
   "cell_type": "code",
   "execution_count": 40,
   "metadata": {},
   "outputs": [
    {
     "name": "stdout",
     "output_type": "stream",
     "text": [
      "First 2 elements of the Fibonacci series: [1, 1]\n"
     ]
    }
   ],
   "source": [
    "# Define the number of elements to display\n",
    "num_elements = int(input(\"Enter the number of Fibonacci elements to display: \"))\n",
    "fib_series = fibonacci_series(num_elements)\n",
    "print(f\"First {num_elements} elements of the Fibonacci series:\", fib_series)\n"
   ]
  },
  {
   "cell_type": "markdown",
   "metadata": {},
   "source": [
    "Q.5\n",
    "Print the pattern using nested for loops (for n lines):\n",
    "```\n",
    "1\n",
    "1 2\n",
    "1 2 3\n",
    "1 2 3 4\n",
    "1 2 3 4 5\n",
    "```"
   ]
  },
  {
   "cell_type": "code",
   "execution_count": 45,
   "metadata": {},
   "outputs": [
    {
     "name": "stdout",
     "output_type": "stream",
     "text": [
      "1 \n",
      "1 2 \n",
      "1 2 3 \n",
      "1 2 3 4 \n",
      "1 2 3 4 5 \n"
     ]
    }
   ],
   "source": [
    "# Input for the number of lines\n",
    "n = int(input(\"Enter the number of lines: \"))\n",
    "\n",
    "# Generate the pattern\n",
    "for i in range(1, n + 1):  # Outer loop for each line\n",
    "    for j in range(1, i + 1):  # Inner loop for numbers on each line\n",
    "        print(j, end=\" \")  # Print numbers on the same line with space\n",
    "    print()  # Move to the next line\n"
   ]
  },
  {
   "cell_type": "markdown",
   "metadata": {},
   "source": [
    "\n",
    "* ```end=\" \"``` specifies that the print function should not add a newline character after printing the number, keeping the numbers on the same line.\n",
    "* ```print()``` This line prints an empty string, effectively moving the cursor to the next line after all numbers for a particular line have been printed."
   ]
  },
  {
   "cell_type": "markdown",
   "metadata": {},
   "source": [
    "### Q6\n",
    "Print the pattern using nested for loops (for n lines):\n",
    "\n",
    "```\n",
    "1\n",
    "\n",
    "1 3\n",
    "\n",
    "1 3 5\n",
    "\n",
    "1 3 5 7\n",
    "\n",
    "1 3 5 7 9\n",
    "```\n",
    "\n",
    "\n"
   ]
  },
  {
   "cell_type": "code",
   "execution_count": 49,
   "metadata": {},
   "outputs": [
    {
     "name": "stdout",
     "output_type": "stream",
     "text": [
      "1 \n",
      "1 3 \n",
      "1 3 5 \n",
      "1 3 5 7 \n",
      "1 3 5 7 9 \n"
     ]
    }
   ],
   "source": [
    "# Number of lines in the pattern\n",
    "n = 5\n",
    "\n",
    "# Outer loop for each line\n",
    "for i in range(1, n + 1):\n",
    "    # Inner loop to generate and print numbers in each line\n",
    "    for j in range(1, 2 * i, 2):  # Increment by 2 to get odd numbers\n",
    "        print(j, end=\" \")\n",
    "    print()  # Move to the next line\n"
   ]
  },
  {
   "cell_type": "markdown",
   "metadata": {},
   "source": [
    "In the inner loop, by incrementing the numbers by 2 we are ensuring only odd numbers are printed. The outer loop determines how many numbers are printed in each line."
   ]
  },
  {
   "cell_type": "markdown",
   "metadata": {},
   "source": [
    "### Q8.\n",
    "Print the pattern for n lines:\n",
    "\n",
    "```\n",
    "1 2 3 4 5\n",
    "\n",
    "1 2 3 4\n",
    "\n",
    "1 2 3\n",
    "\n",
    "1 2\n",
    "\n",
    "1 \n",
    "```\n"
   ]
  },
  {
   "cell_type": "code",
   "execution_count": 50,
   "metadata": {},
   "outputs": [
    {
     "name": "stdout",
     "output_type": "stream",
     "text": [
      "1 2 3 4 5 \n",
      "1 2 3 4 \n",
      "1 2 3 \n",
      "1 2 \n",
      "1 \n"
     ]
    }
   ],
   "source": [
    "n = 5\n",
    "\n",
    "for i in range(n, 0, -1):\n",
    "    for j in range(i):\n",
    "        print(j+1, end=\" \")\n",
    "    print()"
   ]
  },
  {
   "cell_type": "markdown",
   "metadata": {},
   "source": [
    "### Q9\n",
    "Print the pattern for n lines (mind the left spaces):\n",
    "```\n",
    "1 2 3 4 5 4 3 2 1\n",
    "\n",
    "   2 3 4 5 4 3 2\n",
    "\n",
    "     3 4 5 4 3\n",
    "\n",
    "        4 5 4\n",
    "\n",
    "           5\n",
    "```"
   ]
  },
  {
   "cell_type": "code",
   "execution_count": 51,
   "metadata": {},
   "outputs": [
    {
     "name": "stdout",
     "output_type": "stream",
     "text": [
      "1 2 3 4 5 4 3 2 1 \n",
      "  2 3 4 5 4 3 2 \n",
      "    3 4 5 4 3 \n",
      "      4 5 4 \n",
      "        5 \n"
     ]
    }
   ],
   "source": [
    "# Number of lines in the pattern\n",
    "n = 5\n",
    "\n",
    "# Outer loop for each line\n",
    "for i in range(1, n + 1):\n",
    "    # Print leading spaces\n",
    "    print(\" \" * (2 * (i - 1)), end=\"\")\n",
    "    \n",
    "    # Print increasing numbers\n",
    "    for j in range(i, n + 1):\n",
    "        print(j, end=\" \")\n",
    "    \n",
    "    # Print decreasing numbers\n",
    "    for j in range(n - 1, i - 1, -1):\n",
    "        print(j, end=\" \")\n",
    "    \n",
    "    # Move to the next line\n",
    "    print()\n"
   ]
  },
  {
   "cell_type": "markdown",
   "metadata": {},
   "source": [
    "This code uses two loops within the outer loop: one for increasing numbers and another for decreasing numbers, while the leading spaces are managed by multiplying the current line number by 2."
   ]
  },
  {
   "cell_type": "markdown",
   "metadata": {},
   "source": [
    "### Python Dictionary: Key Points\n",
    "\n",
    "1. **Definition**:\n",
    "   - A dictionary is a mutable, unordered collection in Python.\n",
    "   - Stores data in key-value pairs.\n",
    "\n",
    "2. **Syntax**:\n",
    "   ```my_dict = {\"key1\": \"value1\", \"key2\": \"value2\"}\n",
    "   ```\n",
    "\n",
    "3. **Key Characteristics**:\n",
    "   - Keys must be **unique** and **immutable** (e.g., strings, numbers, tuples).\n",
    "   - Values can be of any data type and duplicated.\n",
    "\n",
    "4. **Accessing Values**:\n",
    "   ```value = my_dict[\"key1\"]\n",
    "   ```\n",
    "\n",
    "5. **Adding/Updating Items**:\n",
    "   ```my_dict[\"key3\"] = \"value3\"  # Adds or updates a key-value pair\n",
    "   ```\n",
    "\n",
    "6. **Removing Items**:\n",
    "   - `pop()`: Removes an item by key.\n",
    "   - `popitem()`: Removes the last inserted key-value pair (Python 3.7+).\n",
    "   - `del`: Deletes a specific key or the entire dictionary.\n",
    "\n",
    "7. **Methods**:\n",
    "   - `keys()`: Returns all keys.\n",
    "   - `values()`: Returns all values.\n",
    "   - `items()`: Returns all key-value pairs.\n",
    "   - `get()`: Retrieves a value safely (returns `None` if the key doesn't exist).\n",
    "\n",
    "8. **Iterating**:\n",
    "   ```for key, value in my_dict.items():\n",
    "       print(key, value)\n",
    "   ```\n",
    "\n",
    "9. **Common Operations**:\n",
    "   - Check existence: `if \"key1\" in my_dict`\n",
    "   - Dictionary length: `len(my_dict)`\n",
    "\n",
    "10. **Nested Dictionaries**:\n",
    "    - Dictionaries can contain other dictionaries as values.\n",
    "    ```nested_dict = {\"outer_key\": {\"inner_key\": \"value\"}}\n",
    "    ```\n",
    "\n",
    "11. **Comprehension**:\n",
    "    - Create a dictionary using comprehension.\n",
    "    ```square_dict = {x: x**2 for x in range(5)}\n",
    "    ```\n",
    "\n",
    "12. **Advantages**:\n",
    "    - Fast lookups, insertions, and deletions.\n",
    "    - Flexible data storage.\n",
    "\n",
    "13. **Use Cases**:\n",
    "    - Mapping relationships (e.g., name to age).\n",
    "    - Storing configurations or JSON-like data."
   ]
  },
  {
   "cell_type": "markdown",
   "metadata": {},
   "source": [
    "### Q10\n",
    "Without taking using input create a dictionary with some userid: password pairs as key:value pairs. \n",
    "\n",
    "i) Now take a userid from the user (use input()). If this userid is in your dictionary, print, ask for password; if the password is also correct print “Welcome to the portal!”; otherwise (if userid or password is wrong) print “Invalid credentials!”\n",
    "\n",
    "ii) Create a service for password change. Take a userid from the user (use input()). If this userid is in your dictionary, ask for a new password (twice). If the provided passwords are the same (and different from the existing password), update the corresponding password in the dictionary. If the userid is not in your dictionary, print “Invalid username”.\n"
   ]
  },
  {
   "cell_type": "code",
   "execution_count": 3,
   "metadata": {},
   "outputs": [
    {
     "name": "stdout",
     "output_type": "stream",
     "text": [
      "Welcome to the portal!\n"
     ]
    }
   ],
   "source": [
    "\n",
    "### part 1\n",
    "# Step 1: Create a dictionary with userid:password pairs\n",
    "credentials = {\n",
    "    \"user1\": \"password123\",\n",
    "    \"user2\": \"password456\",\n",
    "    \"guest\": \"guestPass\",\n",
    "    \"johnDoe\": \"john1234\"\n",
    "}\n",
    "\n",
    "# Step 2: Take userid as input from the user\n",
    "user_id = input(\"Enter your user ID: \")\n",
    "\n",
    "# Step 3: Check if the userid exists in the dictionary\n",
    "if user_id in credentials:\n",
    "    # If userid exists, ask for the password\n",
    "    password = input(\"Enter your password: \")\n",
    "    \n",
    "    # Step 4: Validate the password\n",
    "    if credentials[user_id] == password:\n",
    "        print(\"Welcome to the portal!\")\n",
    "    else:\n",
    "        print(\"Invalid credentials!\")\n",
    "else:\n",
    "    print(\"Invalid credentials!\")\n",
    "\n"
   ]
  },
  {
   "cell_type": "code",
   "execution_count": 9,
   "metadata": {},
   "outputs": [
    {
     "name": "stdout",
     "output_type": "stream",
     "text": [
      "Password updated successfully!\n"
     ]
    }
   ],
   "source": [
    "### part 2\n",
    "# Service for password change\n",
    "def change_password():\n",
    "    user_id = input(\"Enter your user ID for password change: \")\n",
    "    \n",
    "    if user_id in credentials:\n",
    "        new_password = input(\"Enter your new password: \")\n",
    "        confirm_password = input(\"Confirm your new password: \")\n",
    "        \n",
    "        if new_password == confirm_password:\n",
    "            if new_password != credentials[user_id]:\n",
    "                credentials[user_id] = new_password\n",
    "                print(\"Password updated successfully!\")\n",
    "            else:\n",
    "                print(\"New password cannot be the same as the old password.\")\n",
    "        else:\n",
    "            print(\"Passwords do not match.\")\n",
    "    else:\n",
    "        print(\"Invalid username.\")\n",
    "\n",
    "# Example usage of the password change service\n",
    "change_password()"
   ]
  },
  {
   "cell_type": "markdown",
   "metadata": {},
   "source": [
    "### Q10\n",
    "Using the Tabulation  Method find an interval containing a root of the equation $sin(x) + x^2 -1$ in the interval [0, 1]. You may use the sin() function in the math module.\n"
   ]
  },
  {
   "cell_type": "code",
   "execution_count": 6,
   "metadata": {},
   "outputs": [
    {
     "name": "stdout",
     "output_type": "stream",
     "text": [
      "The root is in the interval (0.6300000000000003, 0.6400000000000003)\n"
     ]
    }
   ],
   "source": [
    "import math\n",
    "\n",
    "def find_root_interval(f, a, b, step=0.01):\n",
    "    \"\"\"\n",
    "    Finds an interval containing a root of the equation f(x) = 0 within [a, b].\n",
    "\n",
    "    Parameters:\n",
    "        f (function): The function f(x) to evaluate.\n",
    "        a (float): Start of the interval.\n",
    "        b (float): End of the interval.\n",
    "        step (float): Step size for tabulation (default: 0.01).\n",
    "\n",
    "    Returns:\n",
    "        tuple: A tuple (x1, x2) where f(x1) * f(x2) < 0, indicating a root is in the interval (x1, x2).\n",
    "                Returns None if no such interval is found.\n",
    "    \"\"\"\n",
    "    x = a\n",
    "    while x < b:\n",
    "        f_x1 = f(x)\n",
    "        f_x2 = f(x + step)\n",
    "        if f_x1 * f_x2 < 0:  # Root is in the interval [x, x + step]\n",
    "            return (x, x + step)\n",
    "        x += step\n",
    "    return None  # No root found in the interval\n",
    "\n",
    "# Define the function\n",
    "def f(x):\n",
    "    return math.sin(x) + x**2 - 1\n",
    "\n",
    "# Define the interval\n",
    "a, b = 0, 1\n",
    "\n",
    "# Call the function to find the interval containing a root\n",
    "interval = find_root_interval(f, a, b, step=0.01)\n",
    "\n",
    "if interval:\n",
    "    print(f\"The root is in the interval {interval}\")\n",
    "else:\n",
    "    print(\"No root found in the interval [0, 1]\")\n"
   ]
  },
  {
   "cell_type": "markdown",
   "metadata": {},
   "source": [
    "### Q11\n",
    "Consider a ball dropping from a height ‘h’ (value, in cms, taken as input from the user). Each time the ball hits the ground, it bounces up half the immediate previous height it was at. That is after it is dropped from height h, it hits the ground and bounces up height h/2, drops down again, hits the ground, and bounces up height h/4, and so on. Write a program that prints these heights h, h/2, h/4…n times, where n is taken as input from the user. However, if the height reaches 0.05 cm, you should stop immediately. Also, you should print these heights as floating-point numbers using formatted output.\n"
   ]
  },
  {
   "cell_type": "code",
   "execution_count": 8,
   "metadata": {},
   "outputs": [
    {
     "name": "stdout",
     "output_type": "stream",
     "text": [
      "Heights after each bounce:\n",
      "Bounce 1: 10.00 cm\n",
      "Bounce 2: 5.00 cm\n",
      "Bounce 3: 2.50 cm\n",
      "Bounce 4: 1.25 cm\n",
      "Bounce 5: 0.62 cm\n",
      "Bounce 6: 0.31 cm\n",
      "Bounce 7: 0.16 cm\n",
      "Bounce 8: 0.08 cm\n",
      "Height has fallen below 0.05 cm. Stopping.\n"
     ]
    }
   ],
   "source": [
    "def bouncing_ball():\n",
    "    try:\n",
    "        # Input from the user\n",
    "        initial_height = float(input(\"Enter the initial height of the ball in cm: \"))\n",
    "        n = int(input(\"Enter the number of bounces to calculate: \"))\n",
    "\n",
    "        if initial_height <= 0 or n <= 0:\n",
    "            print(\"Height and number of bounces must be positive numbers.\")\n",
    "            return\n",
    "\n",
    "        # Initialize variables\n",
    "        current_height = initial_height\n",
    "\n",
    "        print(\"Heights after each bounce:\")\n",
    "        for i in range(n):\n",
    "            # Print the current height\n",
    "            print(f\"Bounce {i + 1}: {current_height:.2f} cm\")\n",
    "            \n",
    "            # Calculate the next height\n",
    "            current_height /= 2\n",
    "\n",
    "            # Stop if the height is less than 0.05 cm\n",
    "            if current_height < 0.05:\n",
    "                print(\"Height has fallen below 0.05 cm. Stopping.\")\n",
    "                break\n",
    "\n",
    "    except ValueError:\n",
    "        print(\"Invalid input. Please enter numeric values for height and bounces.\")\n",
    "\n",
    "# Call the function\n",
    "bouncing_ball()\n"
   ]
  }
 ],
 "metadata": {
  "kernelspec": {
   "display_name": "Python 3 (ipykernel)",
   "language": "python",
   "name": "python3"
  },
  "language_info": {
   "codemirror_mode": {
    "name": "ipython",
    "version": 3
   },
   "file_extension": ".py",
   "mimetype": "text/x-python",
   "name": "python",
   "nbconvert_exporter": "python",
   "pygments_lexer": "ipython3",
   "version": "3.12.2"
  }
 },
 "nbformat": 4,
 "nbformat_minor": 4
}
